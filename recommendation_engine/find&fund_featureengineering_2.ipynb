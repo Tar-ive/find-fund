{
  "nbformat": 4,
  "nbformat_minor": 0,
  "metadata": {
    "colab": {
      "provenance": [],
      "authorship_tag": "ABX9TyM8UxxEjyTXQrXaSuJScUHD",
      "include_colab_link": true
    },
    "kernelspec": {
      "name": "python3",
      "display_name": "Python 3"
    },
    "language_info": {
      "name": "python"
    }
  },
  "cells": [
    {
      "cell_type": "markdown",
      "metadata": {
        "id": "view-in-github",
        "colab_type": "text"
      },
      "source": [
        "<a href=\"https://colab.research.google.com/github/Tar-ive/find-fund/blob/master/recommendation_engine/find%26fund_featureengineering_2.ipynb\" target=\"_parent\"><img src=\"https://colab.research.google.com/assets/colab-badge.svg\" alt=\"Open In Colab\"/></a>"
      ]
    },
    {
      "cell_type": "markdown",
      "source": [
        "#second attemmpt to do feature engineering for the grants recommendation system"
      ],
      "metadata": {
        "id": "ZltnxVhTMdua"
      }
    },
    {
      "cell_type": "code",
      "execution_count": 1,
      "metadata": {
        "colab": {
          "base_uri": "https://localhost:8080/"
        },
        "id": "npzNl1SJMXgB",
        "outputId": "9083e14b-96f0-4539-dab6-ec6bffa24010"
      },
      "outputs": [
        {
          "output_type": "stream",
          "name": "stdout",
          "text": [
            "Requirement already satisfied: pandas in /usr/local/lib/python3.10/dist-packages (2.1.4)\n",
            "Requirement already satisfied: hopsworks[python] in /usr/local/lib/python3.10/dist-packages (4.1.4)\n",
            "Requirement already satisfied: pyhumps==1.6.1 in /usr/local/lib/python3.10/dist-packages (from hopsworks[python]) (1.6.1)\n",
            "Requirement already satisfied: requests in /usr/local/lib/python3.10/dist-packages (from hopsworks[python]) (2.32.3)\n",
            "Requirement already satisfied: furl in /usr/local/lib/python3.10/dist-packages (from hopsworks[python]) (2.1.3)\n",
            "Requirement already satisfied: boto3 in /usr/local/lib/python3.10/dist-packages (from hopsworks[python]) (1.35.96)\n",
            "Requirement already satisfied: pyjks in /usr/local/lib/python3.10/dist-packages (from hopsworks[python]) (20.0.0)\n",
            "Requirement already satisfied: mock in /usr/local/lib/python3.10/dist-packages (from hopsworks[python]) (5.1.0)\n",
            "Requirement already satisfied: avro==1.11.3 in /usr/local/lib/python3.10/dist-packages (from hopsworks[python]) (1.11.3)\n",
            "Requirement already satisfied: sqlalchemy in /usr/local/lib/python3.10/dist-packages (from hopsworks[python]) (2.0.29)\n",
            "Requirement already satisfied: PyMySQL[rsa] in /usr/local/lib/python3.10/dist-packages (from hopsworks[python]) (1.1.1)\n",
            "Requirement already satisfied: tzlocal in /usr/local/lib/python3.10/dist-packages (from hopsworks[python]) (5.2)\n",
            "Requirement already satisfied: fsspec in /usr/local/lib/python3.10/dist-packages (from hopsworks[python]) (2024.10.0)\n",
            "Requirement already satisfied: retrying in /usr/local/lib/python3.10/dist-packages (from hopsworks[python]) (1.3.4)\n",
            "Requirement already satisfied: hopsworks_aiomysql==0.2.1 in /usr/local/lib/python3.10/dist-packages (from hopsworks_aiomysql[sa]==0.2.1->hopsworks[python]) (0.2.1)\n",
            "Requirement already satisfied: opensearch-py<=2.4.2,>=1.1.0 in /usr/local/lib/python3.10/dist-packages (from hopsworks[python]) (2.4.2)\n",
            "Requirement already satisfied: tqdm in /usr/local/lib/python3.10/dist-packages (from hopsworks[python]) (4.67.1)\n",
            "Requirement already satisfied: grpcio<2.0.0,>=1.49.1 in /usr/local/lib/python3.10/dist-packages (from hopsworks[python]) (1.69.0)\n",
            "Requirement already satisfied: protobuf<5.0.0,>=4.25.4 in /usr/local/lib/python3.10/dist-packages (from hopsworks[python]) (4.25.5)\n",
            "Requirement already satisfied: numpy<2 in /usr/local/lib/python3.10/dist-packages (from hopsworks[python]) (1.26.4)\n",
            "Requirement already satisfied: pyarrow>=10.0 in /usr/local/lib/python3.10/dist-packages (from hopsworks[python]) (17.0.0)\n",
            "Requirement already satisfied: confluent-kafka<=2.3.0 in /usr/local/lib/python3.10/dist-packages (from hopsworks[python]) (2.3.0)\n",
            "Requirement already satisfied: fastavro<=1.8.4,>=1.4.11 in /usr/local/lib/python3.10/dist-packages (from hopsworks[python]) (1.8.4)\n",
            "Requirement already satisfied: python-dateutil>=2.8.2 in /usr/local/lib/python3.10/dist-packages (from pandas) (2.8.2)\n",
            "Requirement already satisfied: pytz>=2020.1 in /usr/local/lib/python3.10/dist-packages (from pandas) (2024.2)\n",
            "Requirement already satisfied: tzdata>=2022.1 in /usr/local/lib/python3.10/dist-packages (from pandas) (2024.2)\n",
            "Requirement already satisfied: urllib3>=1.26.18 in /usr/local/lib/python3.10/dist-packages (from opensearch-py<=2.4.2,>=1.1.0->hopsworks[python]) (2.3.0)\n",
            "Requirement already satisfied: six in /usr/local/lib/python3.10/dist-packages (from opensearch-py<=2.4.2,>=1.1.0->hopsworks[python]) (1.17.0)\n",
            "Requirement already satisfied: certifi>=2022.12.07 in /usr/local/lib/python3.10/dist-packages (from opensearch-py<=2.4.2,>=1.1.0->hopsworks[python]) (2024.12.14)\n",
            "Requirement already satisfied: charset-normalizer<4,>=2 in /usr/local/lib/python3.10/dist-packages (from requests->hopsworks[python]) (3.4.1)\n",
            "Requirement already satisfied: idna<4,>=2.5 in /usr/local/lib/python3.10/dist-packages (from requests->hopsworks[python]) (3.10)\n",
            "Requirement already satisfied: typing-extensions>=4.6.0 in /usr/local/lib/python3.10/dist-packages (from sqlalchemy->hopsworks[python]) (4.12.2)\n",
            "Requirement already satisfied: greenlet!=0.4.17 in /usr/local/lib/python3.10/dist-packages (from sqlalchemy->hopsworks[python]) (3.1.1)\n",
            "Requirement already satisfied: botocore<1.36.0,>=1.35.96 in /usr/local/lib/python3.10/dist-packages (from boto3->hopsworks[python]) (1.35.96)\n",
            "Requirement already satisfied: jmespath<2.0.0,>=0.7.1 in /usr/local/lib/python3.10/dist-packages (from boto3->hopsworks[python]) (1.0.1)\n",
            "Requirement already satisfied: s3transfer<0.11.0,>=0.10.0 in /usr/local/lib/python3.10/dist-packages (from boto3->hopsworks[python]) (0.10.4)\n",
            "Requirement already satisfied: orderedmultidict>=1.0.1 in /usr/local/lib/python3.10/dist-packages (from furl->hopsworks[python]) (1.0.1)\n",
            "Requirement already satisfied: javaobj-py3 in /usr/local/lib/python3.10/dist-packages (from pyjks->hopsworks[python]) (0.4.4)\n",
            "Requirement already satisfied: pyasn1>=0.3.5 in /usr/local/lib/python3.10/dist-packages (from pyjks->hopsworks[python]) (0.6.1)\n",
            "Requirement already satisfied: pyasn1-modules in /usr/local/lib/python3.10/dist-packages (from pyjks->hopsworks[python]) (0.4.1)\n",
            "Requirement already satisfied: pycryptodomex in /usr/local/lib/python3.10/dist-packages (from pyjks->hopsworks[python]) (3.21.0)\n",
            "Requirement already satisfied: twofish in /usr/local/lib/python3.10/dist-packages (from pyjks->hopsworks[python]) (0.3.0)\n",
            "Requirement already satisfied: cryptography in /usr/local/lib/python3.10/dist-packages (from PyMySQL[rsa]->hopsworks[python]) (43.0.3)\n",
            "Requirement already satisfied: cffi>=1.12 in /usr/local/lib/python3.10/dist-packages (from cryptography->PyMySQL[rsa]->hopsworks[python]) (1.17.1)\n",
            "Requirement already satisfied: pycparser in /usr/local/lib/python3.10/dist-packages (from cffi>=1.12->cryptography->PyMySQL[rsa]->hopsworks[python]) (2.22)\n"
          ]
        }
      ],
      "source": [
        "!pip install hopsworks[python] pandas"
      ]
    },
    {
      "cell_type": "code",
      "source": [
        "!pip install loguru"
      ],
      "metadata": {
        "id": "xrqbmwQ4Rmy9",
        "colab": {
          "base_uri": "https://localhost:8080/"
        },
        "outputId": "c3c10e41-3632-4222-f73f-f1c960f7fef5"
      },
      "execution_count": 2,
      "outputs": [
        {
          "output_type": "stream",
          "name": "stdout",
          "text": [
            "Requirement already satisfied: loguru in /usr/local/lib/python3.10/dist-packages (0.7.3)\n"
          ]
        }
      ]
    },
    {
      "cell_type": "code",
      "source": [
        "import hopsworks\n",
        "from loguru import logger\n",
        "from google.colab import drive, userdata\n",
        "\n",
        "HOPSWORKS_API_KEY = userdata.get('HOPSWORKS_API_KEY') # Your Hopsworks API key\n",
        "HOPSWORKS_HOST = \"c.app.hopsworks.ai\"  # Your Hopsworks host\n",
        "PROJECT_NAME = \"findandfund\"  # Your Hopsworks project name\n",
        "\n",
        "def connect_to_hopsworks():\n",
        "    \"\"\"Connect to Hopsworks and return the project and feature store.\"\"\"\n",
        "    try:\n",
        "        logger.info(\"Connecting to Hopsworks...\")\n",
        "        project = hopsworks.login(\n",
        "            api_key_value=HOPSWORKS_API_KEY,\n",
        "            host=HOPSWORKS_HOST,\n",
        "            project=PROJECT_NAME\n",
        "        )\n",
        "        logger.info(\"Connected to Hopsworks successfully!\")\n",
        "\n",
        "        # Get the feature store\n",
        "        fs = project.get_feature_store()\n",
        "        logger.info(\"Successfully retrieved the feature store.\")\n",
        "\n",
        "        return project, fs\n",
        "    except Exception as e:\n",
        "        logger.error(f\"Failed to connect to Hopsworks: {str(e)}\")\n",
        "        return None, None\n",
        "\n",
        "# Connect to Hopsworks\n",
        "project, fs = connect_to_hopsworks()\n",
        "if fs is None:\n",
        "    logger.warning(\"Proceeding with local file storage only.\")\n",
        "else:\n",
        "    logger.info(f\"Connected to project: {project.name}\")"
      ],
      "metadata": {
        "id": "XN9XgQ7BRdpW",
        "colab": {
          "base_uri": "https://localhost:8080/"
        },
        "outputId": "9d74ae43-b228-43a5-f0b3-fc00fddf140a"
      },
      "execution_count": 3,
      "outputs": [
        {
          "output_type": "stream",
          "name": "stderr",
          "text": [
            "\u001b[32m2025-01-10 05:04:56.080\u001b[0m | \u001b[1mINFO    \u001b[0m | \u001b[36m__main__\u001b[0m:\u001b[36mconnect_to_hopsworks\u001b[0m:\u001b[36m12\u001b[0m - \u001b[1mConnecting to Hopsworks...\u001b[0m\n",
            "\u001b[32m2025-01-10 05:04:58.700\u001b[0m | \u001b[1mINFO    \u001b[0m | \u001b[36m__main__\u001b[0m:\u001b[36mconnect_to_hopsworks\u001b[0m:\u001b[36m18\u001b[0m - \u001b[1mConnected to Hopsworks successfully!\u001b[0m\n",
            "\u001b[32m2025-01-10 05:04:58.846\u001b[0m | \u001b[1mINFO    \u001b[0m | \u001b[36m__main__\u001b[0m:\u001b[36mconnect_to_hopsworks\u001b[0m:\u001b[36m22\u001b[0m - \u001b[1mSuccessfully retrieved the feature store.\u001b[0m\n",
            "\u001b[32m2025-01-10 05:04:58.849\u001b[0m | \u001b[1mINFO    \u001b[0m | \u001b[36m__main__\u001b[0m:\u001b[36m<cell line: 31>\u001b[0m:\u001b[36m34\u001b[0m - \u001b[1mConnected to project: findandfund\u001b[0m\n"
          ]
        },
        {
          "output_type": "stream",
          "name": "stdout",
          "text": [
            "\n",
            "Logged in to project, explore it here https://c.app.hopsworks.ai:443/p/1207504\n"
          ]
        }
      ]
    },
    {
      "cell_type": "code",
      "source": [
        "import pandas as pd\n",
        "\n",
        "# Load your data\n",
        "grants_df = pd.read_csv('grants_clean.csv')\n",
        "researchers_df = pd.read_csv('researchers_clean.csv')\n",
        "\n",
        "# Display the first few rows of each DataFrame\n",
        "print(\"Grants Data:\")\n",
        "print(grants_df.head())\n",
        "\n",
        "print(\"\\nResearchers Data:\")\n",
        "print(researchers_df.head())"
      ],
      "metadata": {
        "id": "unQSXr5ORsaV",
        "colab": {
          "base_uri": "https://localhost:8080/"
        },
        "outputId": "34c21288-a70d-4802-edc1-03231595026f"
      },
      "execution_count": 4,
      "outputs": [
        {
          "output_type": "stream",
          "name": "stdout",
          "text": [
            "Grants Data:\n",
            "   opportunity_id      opportunity_number  \\\n",
            "0           15936              07HQPA0028   \n",
            "1           15937    ED-GRANTS-070907-001   \n",
            "2           15939    ED-GRANTS-070907-002   \n",
            "3           15941       NNH07ZEA001N-EDL1   \n",
            "4           17675  CNCS-GRANTS-071307-001   \n",
            "\n",
            "                                   opportunity_title opportunity_status  \\\n",
            "0  Cooperative Ecosystem Studies Unit, Rocky Moun...           archived   \n",
            "1  Youth violence and related issues in persisten...           archived   \n",
            "2  State data collection; technical assistance CF...           archived   \n",
            "3        ROA 2007: A.6 Entry, Descent, and Landing 1           archived   \n",
            "4                               Volunteer Management           archived   \n",
            "\n",
            "      agency agency_code                                     agency_name  \\\n",
            "0  DOI-USGS1   DOI-USGS1                               Geological Survey   \n",
            "1         ED          ED                         Department of Education   \n",
            "2         ED          ED                         Department of Education   \n",
            "3    NASA-HQ     NASA-HQ                               NASA Headquarters   \n",
            "4       CNCS        CNCS  Corporation for National and Community Service   \n",
            "\n",
            "        category category_explanation  award_ceiling  award_floor  \\\n",
            "0  discretionary                  NaN        24957.0      24957.0   \n",
            "1  discretionary                  NaN            0.0          0.0   \n",
            "2  discretionary                  NaN       400000.0          0.0   \n",
            "3  discretionary                  NaN            0.0          0.0   \n",
            "4  discretionary                  NaN       200000.0      50000.0   \n",
            "\n",
            "   estimated_total_funding  expected_awards   post_date  close_date  \\\n",
            "0                  24957.0              1.0  2007-07-09  2007-07-19   \n",
            "1                8594000.0             13.0  2007-07-09  2007-08-08   \n",
            "2               13500000.0              0.0  2007-07-09  2007-08-23   \n",
            "3                      0.0              0.0  2007-07-09  2007-08-20   \n",
            "4                 800000.0              6.0  2007-07-13  2007-09-06   \n",
            "\n",
            "                                  funding_categories  \\\n",
            "0  science_technology_and_other_research_and_deve...   \n",
            "1                                          education   \n",
            "2                                          education   \n",
            "3  science_technology_and_other_research_and_deve...   \n",
            "4  disaster_prevention_and_relief,regional_develo...   \n",
            "\n",
            "                                     applicant_types  \\\n",
            "0                                              other   \n",
            "1                                              other   \n",
            "2                                              other   \n",
            "3                                       unrestricted   \n",
            "4  county_governments,nonprofits_non_higher_educa...   \n",
            "\n",
            "           funding_instruments  \\\n",
            "0        cooperative_agreement   \n",
            "1                        grant   \n",
            "2                        grant   \n",
            "3  cooperative_agreement,grant   \n",
            "4                        grant   \n",
            "\n",
            "                                 summary_description  \\\n",
            "0  The U.S. Geological Surveys is offering a coo...   \n",
            "1  Note:  Each funding opportunity description i...   \n",
            "2  Note:  Each funding opportunity description i...   \n",
            "3  The National Aeronautics and Space Administrat...   \n",
            "4  The Corporation for National and Community Ser...   \n",
            "\n",
            "                             eligibility_description  \n",
            "0  This financial assistance opportunity is being...  \n",
            "1  Eligible Applicants: LEAs in which at least on...  \n",
            "2  Note: Eligible entities must submit separate a...  \n",
            "3                                       Unrestricted  \n",
            "4  The Corporation wants to ensure that all eligi...  \n",
            "\n",
            "Researchers Data:\n",
            "                      researcher_id     researcher_name  total_citations  \\\n",
            "0  https://openalex.org/A5046299069      Larry R. Price            26301   \n",
            "1  https://openalex.org/A5039371296   Michael A. Huston            21477   \n",
            "2  https://openalex.org/A5070163403       Marcus Felson            21278   \n",
            "3  https://openalex.org/A5017593645  Togay Ozbakkaloglu            18853   \n",
            "4  https://openalex.org/A5048215687          Eric Kirby            12428   \n",
            "\n",
            "   total_works  h_index  i10_index          concept_1  concept_1_score  \\\n",
            "0          208       52        108   Computer science             73.1   \n",
            "1           93       43         61            Biology             93.5   \n",
            "2          161       40         70          Sociology             72.7   \n",
            "3          345       75        207  Materials science             95.9   \n",
            "4          278       49         88            Geology             93.2   \n",
            "\n",
            "            concept_2  concept_2_score  ...                     top_work_5_id  \\\n",
            "0         Mathematics             70.7  ...  https://openalex.org/W2025106538   \n",
            "1             Ecology             86.0  ...  https://openalex.org/W2088443113   \n",
            "2          Psychology             65.2  ...  https://openalex.org/W2311383940   \n",
            "3  Composite material             95.1  ...  https://openalex.org/W2330198871   \n",
            "4             Biology             87.8  ...  https://openalex.org/W2145347294   \n",
            "\n",
            "   top_work_5_type  top_work_5_is_oa  \\\n",
            "0          article             False   \n",
            "1          article             False   \n",
            "2          article             False   \n",
            "3           review             False   \n",
            "4          article              True   \n",
            "\n",
            "                                 top_work_5_keywords  \\\n",
            "0  Psychology,Exposure therapy,Virtual reality,Ps...   \n",
            "1  Microsite,Facilitation,Competition (biology),C...   \n",
            "2  Consumption (sociology),Sociology,Computer sci...   \n",
            "3  Materials science,Shrinkage,Flexural strength,...   \n",
            "4  Thermochronology,Geology,Denudation,Fission tr...   \n",
            "\n",
            "                               top_work_5_source  \\\n",
            "0  Journal of Consulting and Clinical Psychology   \n",
            "1                                        Ecology   \n",
            "2                  American Behavioral Scientist   \n",
            "3                   Journal of Materials Science   \n",
            "4                                      Tectonics   \n",
            "\n",
            "                 top_collaborator_1                top_collaborator_2  \\\n",
            "0  https://openalex.org/A5019375929  https://openalex.org/A5009004096   \n",
            "1  https://openalex.org/A5024934767  https://openalex.org/A5110483019   \n",
            "2  https://openalex.org/A5046958460  https://openalex.org/A5102936013   \n",
            "3  https://openalex.org/A5082132566  https://openalex.org/A5043329482   \n",
            "4  https://openalex.org/A5038349665  https://openalex.org/A5090086069   \n",
            "\n",
            "                 top_collaborator_3                top_collaborator_4  \\\n",
            "0  https://openalex.org/A5101870896  https://openalex.org/A5085670077   \n",
            "1  https://openalex.org/A5038398105  https://openalex.org/A5008653559   \n",
            "2  https://openalex.org/A5037722191  https://openalex.org/A5109563801   \n",
            "3  https://openalex.org/A5040407357  https://openalex.org/A5011064916   \n",
            "4  https://openalex.org/A5100685756  https://openalex.org/A5038670501   \n",
            "\n",
            "                 top_collaborator_5  \n",
            "0  https://openalex.org/A5107483970  \n",
            "1  https://openalex.org/A5103521151  \n",
            "2  https://openalex.org/A5072647442  \n",
            "3  https://openalex.org/A5019907987  \n",
            "4  https://openalex.org/A5009378840  \n",
            "\n",
            "[5 rows x 46 columns]\n"
          ]
        }
      ]
    },
    {
      "cell_type": "code",
      "source": [
        "grants_df['post_date'] = pd.to_datetime(grants_df['post_date'], errors='coerce')"
      ],
      "metadata": {
        "id": "JYONnksoSAz0"
      },
      "execution_count": 5,
      "outputs": []
    },
    {
      "cell_type": "code",
      "source": [
        "grants_df.shape"
      ],
      "metadata": {
        "id": "JDufF2YhSBZp",
        "colab": {
          "base_uri": "https://localhost:8080/"
        },
        "outputId": "ae891c73-3835-412b-b045-636665dddbdd"
      },
      "execution_count": 6,
      "outputs": [
        {
          "output_type": "execute_result",
          "data": {
            "text/plain": [
              "(5000, 20)"
            ]
          },
          "metadata": {},
          "execution_count": 6
        }
      ]
    },
    {
      "cell_type": "code",
      "source": [
        "# Remove category_explanation column\n",
        "grants_df = grants_df.drop('category_explanation', axis=1)\n",
        "\n",
        "# Remove rows with missing eligibility description\n",
        "grants_df_clean = grants_df[grants_df['eligibility_description'].notna()]\n",
        "\n",
        "# Print summary of changes\n",
        "print(\"Original dataset shape:\", grants_df.shape)\n",
        "print(\"New dataset shape:\", grants_df_clean.shape)\n",
        "print(f\"Removed {grants_df.shape[0] - grants_df_clean.shape[0]} rows with missing eligibility descriptions\")\n",
        "\n",
        "# Display data info\n",
        "print(\"\\nColumns in cleaned dataset:\")\n",
        "for col in grants_df_clean.columns:\n",
        "    print(f\"- {col}\")\n",
        "\n",
        "print(\"\\nMissing values in cleaned dataset:\")\n",
        "print(grants_df_clean.isnull().sum())\n",
        "\n",
        "# Show sample of monetary columns\n",
        "print(\"\\nMonetary fields summary:\")\n",
        "money_cols = ['award_ceiling', 'award_floor', 'estimated_total_funding']\n",
        "print(grants_df_clean[money_cols].describe())\n",
        "\n",
        "# Save cleaned dataset\n",
        "grants_df_clean.to_csv('grants_final.csv', index=False)\n",
        "\n",
        "# Show head of cleaned dataset with better formatting\n",
        "print(\"\\nSample of cleaned dataset:\")\n",
        "pd.set_option('display.max_columns', None)\n",
        "pd.set_option('display.width', None)\n",
        "print(grants_df_clean.head())"
      ],
      "metadata": {
        "id": "mffeyvgnSNKW",
        "colab": {
          "base_uri": "https://localhost:8080/"
        },
        "outputId": "3ddddc6c-0ece-419b-e4fa-2a40164ebf00"
      },
      "execution_count": 7,
      "outputs": [
        {
          "output_type": "stream",
          "name": "stdout",
          "text": [
            "Original dataset shape: (5000, 19)\n",
            "New dataset shape: (3470, 19)\n",
            "Removed 1530 rows with missing eligibility descriptions\n",
            "\n",
            "Columns in cleaned dataset:\n",
            "- opportunity_id\n",
            "- opportunity_number\n",
            "- opportunity_title\n",
            "- opportunity_status\n",
            "- agency\n",
            "- agency_code\n",
            "- agency_name\n",
            "- category\n",
            "- award_ceiling\n",
            "- award_floor\n",
            "- estimated_total_funding\n",
            "- expected_awards\n",
            "- post_date\n",
            "- close_date\n",
            "- funding_categories\n",
            "- applicant_types\n",
            "- funding_instruments\n",
            "- summary_description\n",
            "- eligibility_description\n",
            "\n",
            "Missing values in cleaned dataset:\n",
            "opportunity_id               0\n",
            "opportunity_number           0\n",
            "opportunity_title            0\n",
            "opportunity_status           0\n",
            "agency                       0\n",
            "agency_code                  0\n",
            "agency_name                  0\n",
            "category                     1\n",
            "award_ceiling                0\n",
            "award_floor                  0\n",
            "estimated_total_funding      0\n",
            "expected_awards              0\n",
            "post_date                    0\n",
            "close_date                 332\n",
            "funding_categories           2\n",
            "applicant_types              2\n",
            "funding_instruments          2\n",
            "summary_description          0\n",
            "eligibility_description      0\n",
            "dtype: int64\n",
            "\n",
            "Monetary fields summary:\n",
            "       award_ceiling   award_floor  estimated_total_funding\n",
            "count   3.470000e+03  3.470000e+03             3.470000e+03\n",
            "mean    3.004755e+06  6.965569e+05             1.054363e+07\n",
            "std     3.353319e+07  2.267822e+07             8.594219e+07\n",
            "min     0.000000e+00  0.000000e+00             0.000000e+00\n",
            "25%     0.000000e+00  0.000000e+00             0.000000e+00\n",
            "50%     5.000000e+04  0.000000e+00             1.327375e+05\n",
            "75%     4.000000e+05  1.000000e+03             2.000000e+06\n",
            "max     1.300000e+09  1.300000e+09             2.600000e+09\n",
            "\n",
            "Sample of cleaned dataset:\n",
            "   opportunity_id      opportunity_number                                  opportunity_title  \\\n",
            "0           15936              07HQPA0028  Cooperative Ecosystem Studies Unit, Rocky Moun...   \n",
            "1           15937    ED-GRANTS-070907-001  Youth violence and related issues in persisten...   \n",
            "2           15939    ED-GRANTS-070907-002  State data collection; technical assistance CF...   \n",
            "3           15941       NNH07ZEA001N-EDL1        ROA 2007: A.6 Entry, Descent, and Landing 1   \n",
            "4           17675  CNCS-GRANTS-071307-001                               Volunteer Management   \n",
            "\n",
            "  opportunity_status     agency agency_code                                     agency_name  \\\n",
            "0           archived  DOI-USGS1   DOI-USGS1                               Geological Survey   \n",
            "1           archived         ED          ED                         Department of Education   \n",
            "2           archived         ED          ED                         Department of Education   \n",
            "3           archived    NASA-HQ     NASA-HQ                               NASA Headquarters   \n",
            "4           archived       CNCS        CNCS  Corporation for National and Community Service   \n",
            "\n",
            "        category  award_ceiling  award_floor  estimated_total_funding  expected_awards  post_date  \\\n",
            "0  discretionary        24957.0      24957.0                  24957.0              1.0 2007-07-09   \n",
            "1  discretionary            0.0          0.0                8594000.0             13.0 2007-07-09   \n",
            "2  discretionary       400000.0          0.0               13500000.0              0.0 2007-07-09   \n",
            "3  discretionary            0.0          0.0                      0.0              0.0 2007-07-09   \n",
            "4  discretionary       200000.0      50000.0                 800000.0              6.0 2007-07-13   \n",
            "\n",
            "   close_date                                 funding_categories  \\\n",
            "0  2007-07-19  science_technology_and_other_research_and_deve...   \n",
            "1  2007-08-08                                          education   \n",
            "2  2007-08-23                                          education   \n",
            "3  2007-08-20  science_technology_and_other_research_and_deve...   \n",
            "4  2007-09-06  disaster_prevention_and_relief,regional_develo...   \n",
            "\n",
            "                                     applicant_types          funding_instruments  \\\n",
            "0                                              other        cooperative_agreement   \n",
            "1                                              other                        grant   \n",
            "2                                              other                        grant   \n",
            "3                                       unrestricted  cooperative_agreement,grant   \n",
            "4  county_governments,nonprofits_non_higher_educa...                        grant   \n",
            "\n",
            "                                 summary_description  \\\n",
            "0  The U.S. Geological Surveys is offering a coo...   \n",
            "1  Note:  Each funding opportunity description i...   \n",
            "2  Note:  Each funding opportunity description i...   \n",
            "3  The National Aeronautics and Space Administrat...   \n",
            "4  The Corporation for National and Community Ser...   \n",
            "\n",
            "                             eligibility_description  \n",
            "0  This financial assistance opportunity is being...  \n",
            "1  Eligible Applicants: LEAs in which at least on...  \n",
            "2  Note: Eligible entities must submit separate a...  \n",
            "3                                       Unrestricted  \n",
            "4  The Corporation wants to ensure that all eligi...  \n"
          ]
        }
      ]
    },
    {
      "cell_type": "code",
      "source": [
        "grants_df_clean.shape"
      ],
      "metadata": {
        "id": "vuaSUtQ0SOW9",
        "colab": {
          "base_uri": "https://localhost:8080/"
        },
        "outputId": "e9abcea7-a393-48e0-d3a3-7a6905744bde"
      },
      "execution_count": 8,
      "outputs": [
        {
          "output_type": "execute_result",
          "data": {
            "text/plain": [
              "(3470, 19)"
            ]
          },
          "metadata": {},
          "execution_count": 8
        }
      ]
    },
    {
      "cell_type": "code",
      "source": [
        "grants_df_clean.isnull().sum()"
      ],
      "metadata": {
        "id": "qB8QhUk9SxVB",
        "colab": {
          "base_uri": "https://localhost:8080/",
          "height": 679
        },
        "outputId": "c28acfb9-39ee-41fd-fdfd-46d9b30ea91d"
      },
      "execution_count": 9,
      "outputs": [
        {
          "output_type": "execute_result",
          "data": {
            "text/plain": [
              "opportunity_id               0\n",
              "opportunity_number           0\n",
              "opportunity_title            0\n",
              "opportunity_status           0\n",
              "agency                       0\n",
              "agency_code                  0\n",
              "agency_name                  0\n",
              "category                     1\n",
              "award_ceiling                0\n",
              "award_floor                  0\n",
              "estimated_total_funding      0\n",
              "expected_awards              0\n",
              "post_date                    0\n",
              "close_date                 332\n",
              "funding_categories           2\n",
              "applicant_types              2\n",
              "funding_instruments          2\n",
              "summary_description          0\n",
              "eligibility_description      0\n",
              "dtype: int64"
            ],
            "text/html": [
              "<div>\n",
              "<style scoped>\n",
              "    .dataframe tbody tr th:only-of-type {\n",
              "        vertical-align: middle;\n",
              "    }\n",
              "\n",
              "    .dataframe tbody tr th {\n",
              "        vertical-align: top;\n",
              "    }\n",
              "\n",
              "    .dataframe thead th {\n",
              "        text-align: right;\n",
              "    }\n",
              "</style>\n",
              "<table border=\"1\" class=\"dataframe\">\n",
              "  <thead>\n",
              "    <tr style=\"text-align: right;\">\n",
              "      <th></th>\n",
              "      <th>0</th>\n",
              "    </tr>\n",
              "  </thead>\n",
              "  <tbody>\n",
              "    <tr>\n",
              "      <th>opportunity_id</th>\n",
              "      <td>0</td>\n",
              "    </tr>\n",
              "    <tr>\n",
              "      <th>opportunity_number</th>\n",
              "      <td>0</td>\n",
              "    </tr>\n",
              "    <tr>\n",
              "      <th>opportunity_title</th>\n",
              "      <td>0</td>\n",
              "    </tr>\n",
              "    <tr>\n",
              "      <th>opportunity_status</th>\n",
              "      <td>0</td>\n",
              "    </tr>\n",
              "    <tr>\n",
              "      <th>agency</th>\n",
              "      <td>0</td>\n",
              "    </tr>\n",
              "    <tr>\n",
              "      <th>agency_code</th>\n",
              "      <td>0</td>\n",
              "    </tr>\n",
              "    <tr>\n",
              "      <th>agency_name</th>\n",
              "      <td>0</td>\n",
              "    </tr>\n",
              "    <tr>\n",
              "      <th>category</th>\n",
              "      <td>1</td>\n",
              "    </tr>\n",
              "    <tr>\n",
              "      <th>award_ceiling</th>\n",
              "      <td>0</td>\n",
              "    </tr>\n",
              "    <tr>\n",
              "      <th>award_floor</th>\n",
              "      <td>0</td>\n",
              "    </tr>\n",
              "    <tr>\n",
              "      <th>estimated_total_funding</th>\n",
              "      <td>0</td>\n",
              "    </tr>\n",
              "    <tr>\n",
              "      <th>expected_awards</th>\n",
              "      <td>0</td>\n",
              "    </tr>\n",
              "    <tr>\n",
              "      <th>post_date</th>\n",
              "      <td>0</td>\n",
              "    </tr>\n",
              "    <tr>\n",
              "      <th>close_date</th>\n",
              "      <td>332</td>\n",
              "    </tr>\n",
              "    <tr>\n",
              "      <th>funding_categories</th>\n",
              "      <td>2</td>\n",
              "    </tr>\n",
              "    <tr>\n",
              "      <th>applicant_types</th>\n",
              "      <td>2</td>\n",
              "    </tr>\n",
              "    <tr>\n",
              "      <th>funding_instruments</th>\n",
              "      <td>2</td>\n",
              "    </tr>\n",
              "    <tr>\n",
              "      <th>summary_description</th>\n",
              "      <td>0</td>\n",
              "    </tr>\n",
              "    <tr>\n",
              "      <th>eligibility_description</th>\n",
              "      <td>0</td>\n",
              "    </tr>\n",
              "  </tbody>\n",
              "</table>\n",
              "</div><br><label><b>dtype:</b> int64</label>"
            ]
          },
          "metadata": {},
          "execution_count": 9
        }
      ]
    },
    {
      "cell_type": "code",
      "source": [
        "grants_df_clean.dtypes"
      ],
      "metadata": {
        "id": "yNf2IaTYTB4x",
        "colab": {
          "base_uri": "https://localhost:8080/",
          "height": 679
        },
        "outputId": "65102ec9-f446-4aca-abbf-48c9b2a27d34"
      },
      "execution_count": 10,
      "outputs": [
        {
          "output_type": "execute_result",
          "data": {
            "text/plain": [
              "opportunity_id                      int64\n",
              "opportunity_number                 object\n",
              "opportunity_title                  object\n",
              "opportunity_status                 object\n",
              "agency                             object\n",
              "agency_code                        object\n",
              "agency_name                        object\n",
              "category                           object\n",
              "award_ceiling                     float64\n",
              "award_floor                       float64\n",
              "estimated_total_funding           float64\n",
              "expected_awards                   float64\n",
              "post_date                  datetime64[ns]\n",
              "close_date                         object\n",
              "funding_categories                 object\n",
              "applicant_types                    object\n",
              "funding_instruments                object\n",
              "summary_description                object\n",
              "eligibility_description            object\n",
              "dtype: object"
            ],
            "text/html": [
              "<div>\n",
              "<style scoped>\n",
              "    .dataframe tbody tr th:only-of-type {\n",
              "        vertical-align: middle;\n",
              "    }\n",
              "\n",
              "    .dataframe tbody tr th {\n",
              "        vertical-align: top;\n",
              "    }\n",
              "\n",
              "    .dataframe thead th {\n",
              "        text-align: right;\n",
              "    }\n",
              "</style>\n",
              "<table border=\"1\" class=\"dataframe\">\n",
              "  <thead>\n",
              "    <tr style=\"text-align: right;\">\n",
              "      <th></th>\n",
              "      <th>0</th>\n",
              "    </tr>\n",
              "  </thead>\n",
              "  <tbody>\n",
              "    <tr>\n",
              "      <th>opportunity_id</th>\n",
              "      <td>int64</td>\n",
              "    </tr>\n",
              "    <tr>\n",
              "      <th>opportunity_number</th>\n",
              "      <td>object</td>\n",
              "    </tr>\n",
              "    <tr>\n",
              "      <th>opportunity_title</th>\n",
              "      <td>object</td>\n",
              "    </tr>\n",
              "    <tr>\n",
              "      <th>opportunity_status</th>\n",
              "      <td>object</td>\n",
              "    </tr>\n",
              "    <tr>\n",
              "      <th>agency</th>\n",
              "      <td>object</td>\n",
              "    </tr>\n",
              "    <tr>\n",
              "      <th>agency_code</th>\n",
              "      <td>object</td>\n",
              "    </tr>\n",
              "    <tr>\n",
              "      <th>agency_name</th>\n",
              "      <td>object</td>\n",
              "    </tr>\n",
              "    <tr>\n",
              "      <th>category</th>\n",
              "      <td>object</td>\n",
              "    </tr>\n",
              "    <tr>\n",
              "      <th>award_ceiling</th>\n",
              "      <td>float64</td>\n",
              "    </tr>\n",
              "    <tr>\n",
              "      <th>award_floor</th>\n",
              "      <td>float64</td>\n",
              "    </tr>\n",
              "    <tr>\n",
              "      <th>estimated_total_funding</th>\n",
              "      <td>float64</td>\n",
              "    </tr>\n",
              "    <tr>\n",
              "      <th>expected_awards</th>\n",
              "      <td>float64</td>\n",
              "    </tr>\n",
              "    <tr>\n",
              "      <th>post_date</th>\n",
              "      <td>datetime64[ns]</td>\n",
              "    </tr>\n",
              "    <tr>\n",
              "      <th>close_date</th>\n",
              "      <td>object</td>\n",
              "    </tr>\n",
              "    <tr>\n",
              "      <th>funding_categories</th>\n",
              "      <td>object</td>\n",
              "    </tr>\n",
              "    <tr>\n",
              "      <th>applicant_types</th>\n",
              "      <td>object</td>\n",
              "    </tr>\n",
              "    <tr>\n",
              "      <th>funding_instruments</th>\n",
              "      <td>object</td>\n",
              "    </tr>\n",
              "    <tr>\n",
              "      <th>summary_description</th>\n",
              "      <td>object</td>\n",
              "    </tr>\n",
              "    <tr>\n",
              "      <th>eligibility_description</th>\n",
              "      <td>object</td>\n",
              "    </tr>\n",
              "  </tbody>\n",
              "</table>\n",
              "</div><br><label><b>dtype:</b> object</label>"
            ]
          },
          "metadata": {},
          "execution_count": 10
        }
      ]
    },
    {
      "cell_type": "code",
      "source": [
        "researchers_df.shape"
      ],
      "metadata": {
        "id": "DNeVkYpLTHrD",
        "colab": {
          "base_uri": "https://localhost:8080/"
        },
        "outputId": "34118795-c60f-4863-a113-5dd822e6aec5"
      },
      "execution_count": 11,
      "outputs": [
        {
          "output_type": "execute_result",
          "data": {
            "text/plain": [
              "(500, 46)"
            ]
          },
          "metadata": {},
          "execution_count": 11
        }
      ]
    },
    {
      "cell_type": "code",
      "source": [
        "researchers_df.isnull().sum()"
      ],
      "metadata": {
        "id": "zV4OLuOGTJ7e",
        "colab": {
          "base_uri": "https://localhost:8080/",
          "height": 1000
        },
        "outputId": "5ff2e436-9c66-469d-f0d3-4450b0d8cdef"
      },
      "execution_count": 12,
      "outputs": [
        {
          "output_type": "execute_result",
          "data": {
            "text/plain": [
              "researcher_id           0\n",
              "researcher_name         0\n",
              "total_citations         0\n",
              "total_works             0\n",
              "h_index                 0\n",
              "i10_index               0\n",
              "concept_1               0\n",
              "concept_1_score         0\n",
              "concept_2               0\n",
              "concept_2_score         0\n",
              "years_active            0\n",
              "recent_works_count      0\n",
              "recent_citations        0\n",
              "unique_venues           0\n",
              "avg_coauthors           0\n",
              "open_access_ratio       0\n",
              "top_work_1_id           0\n",
              "top_work_1_type         0\n",
              "top_work_1_is_oa        0\n",
              "top_work_1_keywords     0\n",
              "top_work_1_source      24\n",
              "top_work_2_id           5\n",
              "top_work_2_type         5\n",
              "top_work_2_is_oa        5\n",
              "top_work_2_keywords     5\n",
              "top_work_2_source      34\n",
              "top_work_3_id           5\n",
              "top_work_3_type         5\n",
              "top_work_3_is_oa        5\n",
              "top_work_3_keywords     5\n",
              "top_work_3_source      33\n",
              "top_work_4_id           6\n",
              "top_work_4_type         6\n",
              "top_work_4_is_oa        6\n",
              "top_work_4_keywords     6\n",
              "top_work_4_source      38\n",
              "top_work_5_id           8\n",
              "top_work_5_type         8\n",
              "top_work_5_is_oa        8\n",
              "top_work_5_keywords     8\n",
              "top_work_5_source      43\n",
              "top_collaborator_1      0\n",
              "top_collaborator_2      0\n",
              "top_collaborator_3      1\n",
              "top_collaborator_4      1\n",
              "top_collaborator_5      2\n",
              "dtype: int64"
            ],
            "text/html": [
              "<div>\n",
              "<style scoped>\n",
              "    .dataframe tbody tr th:only-of-type {\n",
              "        vertical-align: middle;\n",
              "    }\n",
              "\n",
              "    .dataframe tbody tr th {\n",
              "        vertical-align: top;\n",
              "    }\n",
              "\n",
              "    .dataframe thead th {\n",
              "        text-align: right;\n",
              "    }\n",
              "</style>\n",
              "<table border=\"1\" class=\"dataframe\">\n",
              "  <thead>\n",
              "    <tr style=\"text-align: right;\">\n",
              "      <th></th>\n",
              "      <th>0</th>\n",
              "    </tr>\n",
              "  </thead>\n",
              "  <tbody>\n",
              "    <tr>\n",
              "      <th>researcher_id</th>\n",
              "      <td>0</td>\n",
              "    </tr>\n",
              "    <tr>\n",
              "      <th>researcher_name</th>\n",
              "      <td>0</td>\n",
              "    </tr>\n",
              "    <tr>\n",
              "      <th>total_citations</th>\n",
              "      <td>0</td>\n",
              "    </tr>\n",
              "    <tr>\n",
              "      <th>total_works</th>\n",
              "      <td>0</td>\n",
              "    </tr>\n",
              "    <tr>\n",
              "      <th>h_index</th>\n",
              "      <td>0</td>\n",
              "    </tr>\n",
              "    <tr>\n",
              "      <th>i10_index</th>\n",
              "      <td>0</td>\n",
              "    </tr>\n",
              "    <tr>\n",
              "      <th>concept_1</th>\n",
              "      <td>0</td>\n",
              "    </tr>\n",
              "    <tr>\n",
              "      <th>concept_1_score</th>\n",
              "      <td>0</td>\n",
              "    </tr>\n",
              "    <tr>\n",
              "      <th>concept_2</th>\n",
              "      <td>0</td>\n",
              "    </tr>\n",
              "    <tr>\n",
              "      <th>concept_2_score</th>\n",
              "      <td>0</td>\n",
              "    </tr>\n",
              "    <tr>\n",
              "      <th>years_active</th>\n",
              "      <td>0</td>\n",
              "    </tr>\n",
              "    <tr>\n",
              "      <th>recent_works_count</th>\n",
              "      <td>0</td>\n",
              "    </tr>\n",
              "    <tr>\n",
              "      <th>recent_citations</th>\n",
              "      <td>0</td>\n",
              "    </tr>\n",
              "    <tr>\n",
              "      <th>unique_venues</th>\n",
              "      <td>0</td>\n",
              "    </tr>\n",
              "    <tr>\n",
              "      <th>avg_coauthors</th>\n",
              "      <td>0</td>\n",
              "    </tr>\n",
              "    <tr>\n",
              "      <th>open_access_ratio</th>\n",
              "      <td>0</td>\n",
              "    </tr>\n",
              "    <tr>\n",
              "      <th>top_work_1_id</th>\n",
              "      <td>0</td>\n",
              "    </tr>\n",
              "    <tr>\n",
              "      <th>top_work_1_type</th>\n",
              "      <td>0</td>\n",
              "    </tr>\n",
              "    <tr>\n",
              "      <th>top_work_1_is_oa</th>\n",
              "      <td>0</td>\n",
              "    </tr>\n",
              "    <tr>\n",
              "      <th>top_work_1_keywords</th>\n",
              "      <td>0</td>\n",
              "    </tr>\n",
              "    <tr>\n",
              "      <th>top_work_1_source</th>\n",
              "      <td>24</td>\n",
              "    </tr>\n",
              "    <tr>\n",
              "      <th>top_work_2_id</th>\n",
              "      <td>5</td>\n",
              "    </tr>\n",
              "    <tr>\n",
              "      <th>top_work_2_type</th>\n",
              "      <td>5</td>\n",
              "    </tr>\n",
              "    <tr>\n",
              "      <th>top_work_2_is_oa</th>\n",
              "      <td>5</td>\n",
              "    </tr>\n",
              "    <tr>\n",
              "      <th>top_work_2_keywords</th>\n",
              "      <td>5</td>\n",
              "    </tr>\n",
              "    <tr>\n",
              "      <th>top_work_2_source</th>\n",
              "      <td>34</td>\n",
              "    </tr>\n",
              "    <tr>\n",
              "      <th>top_work_3_id</th>\n",
              "      <td>5</td>\n",
              "    </tr>\n",
              "    <tr>\n",
              "      <th>top_work_3_type</th>\n",
              "      <td>5</td>\n",
              "    </tr>\n",
              "    <tr>\n",
              "      <th>top_work_3_is_oa</th>\n",
              "      <td>5</td>\n",
              "    </tr>\n",
              "    <tr>\n",
              "      <th>top_work_3_keywords</th>\n",
              "      <td>5</td>\n",
              "    </tr>\n",
              "    <tr>\n",
              "      <th>top_work_3_source</th>\n",
              "      <td>33</td>\n",
              "    </tr>\n",
              "    <tr>\n",
              "      <th>top_work_4_id</th>\n",
              "      <td>6</td>\n",
              "    </tr>\n",
              "    <tr>\n",
              "      <th>top_work_4_type</th>\n",
              "      <td>6</td>\n",
              "    </tr>\n",
              "    <tr>\n",
              "      <th>top_work_4_is_oa</th>\n",
              "      <td>6</td>\n",
              "    </tr>\n",
              "    <tr>\n",
              "      <th>top_work_4_keywords</th>\n",
              "      <td>6</td>\n",
              "    </tr>\n",
              "    <tr>\n",
              "      <th>top_work_4_source</th>\n",
              "      <td>38</td>\n",
              "    </tr>\n",
              "    <tr>\n",
              "      <th>top_work_5_id</th>\n",
              "      <td>8</td>\n",
              "    </tr>\n",
              "    <tr>\n",
              "      <th>top_work_5_type</th>\n",
              "      <td>8</td>\n",
              "    </tr>\n",
              "    <tr>\n",
              "      <th>top_work_5_is_oa</th>\n",
              "      <td>8</td>\n",
              "    </tr>\n",
              "    <tr>\n",
              "      <th>top_work_5_keywords</th>\n",
              "      <td>8</td>\n",
              "    </tr>\n",
              "    <tr>\n",
              "      <th>top_work_5_source</th>\n",
              "      <td>43</td>\n",
              "    </tr>\n",
              "    <tr>\n",
              "      <th>top_collaborator_1</th>\n",
              "      <td>0</td>\n",
              "    </tr>\n",
              "    <tr>\n",
              "      <th>top_collaborator_2</th>\n",
              "      <td>0</td>\n",
              "    </tr>\n",
              "    <tr>\n",
              "      <th>top_collaborator_3</th>\n",
              "      <td>1</td>\n",
              "    </tr>\n",
              "    <tr>\n",
              "      <th>top_collaborator_4</th>\n",
              "      <td>1</td>\n",
              "    </tr>\n",
              "    <tr>\n",
              "      <th>top_collaborator_5</th>\n",
              "      <td>2</td>\n",
              "    </tr>\n",
              "  </tbody>\n",
              "</table>\n",
              "</div><br><label><b>dtype:</b> int64</label>"
            ]
          },
          "metadata": {},
          "execution_count": 12
        }
      ]
    },
    {
      "cell_type": "code",
      "source": [
        "researchers_df.dtypes"
      ],
      "metadata": {
        "id": "4L0GKzw2TSAT",
        "colab": {
          "base_uri": "https://localhost:8080/",
          "height": 1000
        },
        "outputId": "39c66276-f513-4ff6-f4da-cea157e4424c"
      },
      "execution_count": 13,
      "outputs": [
        {
          "output_type": "execute_result",
          "data": {
            "text/plain": [
              "researcher_id           object\n",
              "researcher_name         object\n",
              "total_citations          int64\n",
              "total_works              int64\n",
              "h_index                  int64\n",
              "i10_index                int64\n",
              "concept_1               object\n",
              "concept_1_score        float64\n",
              "concept_2               object\n",
              "concept_2_score        float64\n",
              "years_active             int64\n",
              "recent_works_count       int64\n",
              "recent_citations         int64\n",
              "unique_venues            int64\n",
              "avg_coauthors          float64\n",
              "open_access_ratio      float64\n",
              "top_work_1_id           object\n",
              "top_work_1_type         object\n",
              "top_work_1_is_oa          bool\n",
              "top_work_1_keywords     object\n",
              "top_work_1_source       object\n",
              "top_work_2_id           object\n",
              "top_work_2_type         object\n",
              "top_work_2_is_oa        object\n",
              "top_work_2_keywords     object\n",
              "top_work_2_source       object\n",
              "top_work_3_id           object\n",
              "top_work_3_type         object\n",
              "top_work_3_is_oa        object\n",
              "top_work_3_keywords     object\n",
              "top_work_3_source       object\n",
              "top_work_4_id           object\n",
              "top_work_4_type         object\n",
              "top_work_4_is_oa        object\n",
              "top_work_4_keywords     object\n",
              "top_work_4_source       object\n",
              "top_work_5_id           object\n",
              "top_work_5_type         object\n",
              "top_work_5_is_oa        object\n",
              "top_work_5_keywords     object\n",
              "top_work_5_source       object\n",
              "top_collaborator_1      object\n",
              "top_collaborator_2      object\n",
              "top_collaborator_3      object\n",
              "top_collaborator_4      object\n",
              "top_collaborator_5      object\n",
              "dtype: object"
            ],
            "text/html": [
              "<div>\n",
              "<style scoped>\n",
              "    .dataframe tbody tr th:only-of-type {\n",
              "        vertical-align: middle;\n",
              "    }\n",
              "\n",
              "    .dataframe tbody tr th {\n",
              "        vertical-align: top;\n",
              "    }\n",
              "\n",
              "    .dataframe thead th {\n",
              "        text-align: right;\n",
              "    }\n",
              "</style>\n",
              "<table border=\"1\" class=\"dataframe\">\n",
              "  <thead>\n",
              "    <tr style=\"text-align: right;\">\n",
              "      <th></th>\n",
              "      <th>0</th>\n",
              "    </tr>\n",
              "  </thead>\n",
              "  <tbody>\n",
              "    <tr>\n",
              "      <th>researcher_id</th>\n",
              "      <td>object</td>\n",
              "    </tr>\n",
              "    <tr>\n",
              "      <th>researcher_name</th>\n",
              "      <td>object</td>\n",
              "    </tr>\n",
              "    <tr>\n",
              "      <th>total_citations</th>\n",
              "      <td>int64</td>\n",
              "    </tr>\n",
              "    <tr>\n",
              "      <th>total_works</th>\n",
              "      <td>int64</td>\n",
              "    </tr>\n",
              "    <tr>\n",
              "      <th>h_index</th>\n",
              "      <td>int64</td>\n",
              "    </tr>\n",
              "    <tr>\n",
              "      <th>i10_index</th>\n",
              "      <td>int64</td>\n",
              "    </tr>\n",
              "    <tr>\n",
              "      <th>concept_1</th>\n",
              "      <td>object</td>\n",
              "    </tr>\n",
              "    <tr>\n",
              "      <th>concept_1_score</th>\n",
              "      <td>float64</td>\n",
              "    </tr>\n",
              "    <tr>\n",
              "      <th>concept_2</th>\n",
              "      <td>object</td>\n",
              "    </tr>\n",
              "    <tr>\n",
              "      <th>concept_2_score</th>\n",
              "      <td>float64</td>\n",
              "    </tr>\n",
              "    <tr>\n",
              "      <th>years_active</th>\n",
              "      <td>int64</td>\n",
              "    </tr>\n",
              "    <tr>\n",
              "      <th>recent_works_count</th>\n",
              "      <td>int64</td>\n",
              "    </tr>\n",
              "    <tr>\n",
              "      <th>recent_citations</th>\n",
              "      <td>int64</td>\n",
              "    </tr>\n",
              "    <tr>\n",
              "      <th>unique_venues</th>\n",
              "      <td>int64</td>\n",
              "    </tr>\n",
              "    <tr>\n",
              "      <th>avg_coauthors</th>\n",
              "      <td>float64</td>\n",
              "    </tr>\n",
              "    <tr>\n",
              "      <th>open_access_ratio</th>\n",
              "      <td>float64</td>\n",
              "    </tr>\n",
              "    <tr>\n",
              "      <th>top_work_1_id</th>\n",
              "      <td>object</td>\n",
              "    </tr>\n",
              "    <tr>\n",
              "      <th>top_work_1_type</th>\n",
              "      <td>object</td>\n",
              "    </tr>\n",
              "    <tr>\n",
              "      <th>top_work_1_is_oa</th>\n",
              "      <td>bool</td>\n",
              "    </tr>\n",
              "    <tr>\n",
              "      <th>top_work_1_keywords</th>\n",
              "      <td>object</td>\n",
              "    </tr>\n",
              "    <tr>\n",
              "      <th>top_work_1_source</th>\n",
              "      <td>object</td>\n",
              "    </tr>\n",
              "    <tr>\n",
              "      <th>top_work_2_id</th>\n",
              "      <td>object</td>\n",
              "    </tr>\n",
              "    <tr>\n",
              "      <th>top_work_2_type</th>\n",
              "      <td>object</td>\n",
              "    </tr>\n",
              "    <tr>\n",
              "      <th>top_work_2_is_oa</th>\n",
              "      <td>object</td>\n",
              "    </tr>\n",
              "    <tr>\n",
              "      <th>top_work_2_keywords</th>\n",
              "      <td>object</td>\n",
              "    </tr>\n",
              "    <tr>\n",
              "      <th>top_work_2_source</th>\n",
              "      <td>object</td>\n",
              "    </tr>\n",
              "    <tr>\n",
              "      <th>top_work_3_id</th>\n",
              "      <td>object</td>\n",
              "    </tr>\n",
              "    <tr>\n",
              "      <th>top_work_3_type</th>\n",
              "      <td>object</td>\n",
              "    </tr>\n",
              "    <tr>\n",
              "      <th>top_work_3_is_oa</th>\n",
              "      <td>object</td>\n",
              "    </tr>\n",
              "    <tr>\n",
              "      <th>top_work_3_keywords</th>\n",
              "      <td>object</td>\n",
              "    </tr>\n",
              "    <tr>\n",
              "      <th>top_work_3_source</th>\n",
              "      <td>object</td>\n",
              "    </tr>\n",
              "    <tr>\n",
              "      <th>top_work_4_id</th>\n",
              "      <td>object</td>\n",
              "    </tr>\n",
              "    <tr>\n",
              "      <th>top_work_4_type</th>\n",
              "      <td>object</td>\n",
              "    </tr>\n",
              "    <tr>\n",
              "      <th>top_work_4_is_oa</th>\n",
              "      <td>object</td>\n",
              "    </tr>\n",
              "    <tr>\n",
              "      <th>top_work_4_keywords</th>\n",
              "      <td>object</td>\n",
              "    </tr>\n",
              "    <tr>\n",
              "      <th>top_work_4_source</th>\n",
              "      <td>object</td>\n",
              "    </tr>\n",
              "    <tr>\n",
              "      <th>top_work_5_id</th>\n",
              "      <td>object</td>\n",
              "    </tr>\n",
              "    <tr>\n",
              "      <th>top_work_5_type</th>\n",
              "      <td>object</td>\n",
              "    </tr>\n",
              "    <tr>\n",
              "      <th>top_work_5_is_oa</th>\n",
              "      <td>object</td>\n",
              "    </tr>\n",
              "    <tr>\n",
              "      <th>top_work_5_keywords</th>\n",
              "      <td>object</td>\n",
              "    </tr>\n",
              "    <tr>\n",
              "      <th>top_work_5_source</th>\n",
              "      <td>object</td>\n",
              "    </tr>\n",
              "    <tr>\n",
              "      <th>top_collaborator_1</th>\n",
              "      <td>object</td>\n",
              "    </tr>\n",
              "    <tr>\n",
              "      <th>top_collaborator_2</th>\n",
              "      <td>object</td>\n",
              "    </tr>\n",
              "    <tr>\n",
              "      <th>top_collaborator_3</th>\n",
              "      <td>object</td>\n",
              "    </tr>\n",
              "    <tr>\n",
              "      <th>top_collaborator_4</th>\n",
              "      <td>object</td>\n",
              "    </tr>\n",
              "    <tr>\n",
              "      <th>top_collaborator_5</th>\n",
              "      <td>object</td>\n",
              "    </tr>\n",
              "  </tbody>\n",
              "</table>\n",
              "</div><br><label><b>dtype:</b> object</label>"
            ]
          },
          "metadata": {},
          "execution_count": 13
        }
      ]
    },
    {
      "cell_type": "markdown",
      "source": [
        "# handelling missing values in grants data"
      ],
      "metadata": {
        "id": "b5mAkIoMTbam"
      }
    },
    {
      "cell_type": "code",
      "source": [
        "grants_clean_df = grants_df_clean"
      ],
      "metadata": {
        "id": "SRnwMrrBTiYR"
      },
      "execution_count": 14,
      "outputs": []
    },
    {
      "cell_type": "code",
      "source": [
        "# Fill missing values\n",
        "grants_clean_df['category'] = grants_clean_df['category'].fillna('unknown')\n",
        "grants_clean_df['close_date'] = grants_clean_df['close_date'].fillna('unknown')\n",
        "grants_clean_df['funding_categories'] = grants_clean_df['funding_categories'].fillna('unknown')\n",
        "grants_clean_df['applicant_types'] = grants_clean_df['applicant_types'].fillna('unknown')\n",
        "grants_clean_df['funding_instruments'] = grants_clean_df['funding_instruments'].fillna('unknown')"
      ],
      "metadata": {
        "id": "EzdyN1GUTbFr",
        "colab": {
          "base_uri": "https://localhost:8080/"
        },
        "outputId": "6d63ed5e-5100-4ca4-bd94-37d38e8dc649"
      },
      "execution_count": 15,
      "outputs": [
        {
          "output_type": "stream",
          "name": "stderr",
          "text": [
            "SettingWithCopyWarning: \n",
            "A value is trying to be set on a copy of a slice from a DataFrame.\n",
            "Try using .loc[row_indexer,col_indexer] = value instead\n",
            "\n",
            "See the caveats in the documentation: https://pandas.pydata.org/pandas-docs/stable/user_guide/indexing.html#returning-a-view-versus-a-copy\n",
            "SettingWithCopyWarning: \n",
            "A value is trying to be set on a copy of a slice from a DataFrame.\n",
            "Try using .loc[row_indexer,col_indexer] = value instead\n",
            "\n",
            "See the caveats in the documentation: https://pandas.pydata.org/pandas-docs/stable/user_guide/indexing.html#returning-a-view-versus-a-copy\n",
            "SettingWithCopyWarning: \n",
            "A value is trying to be set on a copy of a slice from a DataFrame.\n",
            "Try using .loc[row_indexer,col_indexer] = value instead\n",
            "\n",
            "See the caveats in the documentation: https://pandas.pydata.org/pandas-docs/stable/user_guide/indexing.html#returning-a-view-versus-a-copy\n",
            "SettingWithCopyWarning: \n",
            "A value is trying to be set on a copy of a slice from a DataFrame.\n",
            "Try using .loc[row_indexer,col_indexer] = value instead\n",
            "\n",
            "See the caveats in the documentation: https://pandas.pydata.org/pandas-docs/stable/user_guide/indexing.html#returning-a-view-versus-a-copy\n",
            "SettingWithCopyWarning: \n",
            "A value is trying to be set on a copy of a slice from a DataFrame.\n",
            "Try using .loc[row_indexer,col_indexer] = value instead\n",
            "\n",
            "See the caveats in the documentation: https://pandas.pydata.org/pandas-docs/stable/user_guide/indexing.html#returning-a-view-versus-a-copy\n"
          ]
        }
      ]
    },
    {
      "cell_type": "code",
      "source": [
        "grants_clean_df['close_date'] = pd.to_datetime(grants_clean_df['close_date'], errors='coerce')"
      ],
      "metadata": {
        "id": "iTzYy9FPTpmi",
        "colab": {
          "base_uri": "https://localhost:8080/"
        },
        "outputId": "6828f3b5-b363-4f85-ba32-dd12ed847142"
      },
      "execution_count": 16,
      "outputs": [
        {
          "output_type": "stream",
          "name": "stderr",
          "text": [
            "SettingWithCopyWarning: \n",
            "A value is trying to be set on a copy of a slice from a DataFrame.\n",
            "Try using .loc[row_indexer,col_indexer] = value instead\n",
            "\n",
            "See the caveats in the documentation: https://pandas.pydata.org/pandas-docs/stable/user_guide/indexing.html#returning-a-view-versus-a-copy\n"
          ]
        }
      ]
    },
    {
      "cell_type": "markdown",
      "source": [
        "# some feature engineering for grants data"
      ],
      "metadata": {
        "id": "vfiqIpLFTtGs"
      }
    },
    {
      "cell_type": "code",
      "source": [
        "# Funding Range\n",
        "grants_clean_df['funding_range'] = grants_clean_df['award_ceiling'] - grants_clean_df['award_floor']\n",
        "\n",
        "# Description Length\n",
        "grants_clean_df['summary_description_length'] = grants_clean_df['summary_description'].str.len()\n",
        "grants_clean_df['eligibility_description_length'] = grants_clean_df['eligibility_description'].str.len()\n",
        "\n",
        "# Funding Types Count\n",
        "grants_clean_df['funding_types_count'] = grants_clean_df['funding_categories'].str.count(',') + 1\n",
        "\n",
        "# Applicant Types Count\n",
        "grants_clean_df['applicant_types_count'] = grants_clean_df['applicant_types'].str.count(',') + 1"
      ],
      "metadata": {
        "id": "FJiYWmznTwH6",
        "colab": {
          "base_uri": "https://localhost:8080/"
        },
        "outputId": "d0db8a54-d7e0-4319-b57c-14445de6ff10"
      },
      "execution_count": 17,
      "outputs": [
        {
          "output_type": "stream",
          "name": "stderr",
          "text": [
            "SettingWithCopyWarning: \n",
            "A value is trying to be set on a copy of a slice from a DataFrame.\n",
            "Try using .loc[row_indexer,col_indexer] = value instead\n",
            "\n",
            "See the caveats in the documentation: https://pandas.pydata.org/pandas-docs/stable/user_guide/indexing.html#returning-a-view-versus-a-copy\n",
            "SettingWithCopyWarning: \n",
            "A value is trying to be set on a copy of a slice from a DataFrame.\n",
            "Try using .loc[row_indexer,col_indexer] = value instead\n",
            "\n",
            "See the caveats in the documentation: https://pandas.pydata.org/pandas-docs/stable/user_guide/indexing.html#returning-a-view-versus-a-copy\n",
            "SettingWithCopyWarning: \n",
            "A value is trying to be set on a copy of a slice from a DataFrame.\n",
            "Try using .loc[row_indexer,col_indexer] = value instead\n",
            "\n",
            "See the caveats in the documentation: https://pandas.pydata.org/pandas-docs/stable/user_guide/indexing.html#returning-a-view-versus-a-copy\n",
            "SettingWithCopyWarning: \n",
            "A value is trying to be set on a copy of a slice from a DataFrame.\n",
            "Try using .loc[row_indexer,col_indexer] = value instead\n",
            "\n",
            "See the caveats in the documentation: https://pandas.pydata.org/pandas-docs/stable/user_guide/indexing.html#returning-a-view-versus-a-copy\n",
            "SettingWithCopyWarning: \n",
            "A value is trying to be set on a copy of a slice from a DataFrame.\n",
            "Try using .loc[row_indexer,col_indexer] = value instead\n",
            "\n",
            "See the caveats in the documentation: https://pandas.pydata.org/pandas-docs/stable/user_guide/indexing.html#returning-a-view-versus-a-copy\n"
          ]
        }
      ]
    },
    {
      "cell_type": "code",
      "source": [
        "grants_clean_df.to_csv('grants_final_cleaned.csv', index=False)"
      ],
      "metadata": {
        "id": "775kQ3MATyHa"
      },
      "execution_count": 18,
      "outputs": []
    },
    {
      "cell_type": "code",
      "source": [
        "grants_clean_df['close_date'] = grants_clean_df['close_date'].dt.strftime('%Y-%m-%d')"
      ],
      "metadata": {
        "id": "NnC60PqwgZTq",
        "colab": {
          "base_uri": "https://localhost:8080/"
        },
        "outputId": "cf683030-cc16-4c76-9fdf-be835299b01b"
      },
      "execution_count": 19,
      "outputs": [
        {
          "output_type": "stream",
          "name": "stderr",
          "text": [
            "SettingWithCopyWarning: \n",
            "A value is trying to be set on a copy of a slice from a DataFrame.\n",
            "Try using .loc[row_indexer,col_indexer] = value instead\n",
            "\n",
            "See the caveats in the documentation: https://pandas.pydata.org/pandas-docs/stable/user_guide/indexing.html#returning-a-view-versus-a-copy\n"
          ]
        }
      ]
    },
    {
      "cell_type": "code",
      "source": [
        "grants_clean_df['funding_types_count'] = grants_clean_df['funding_types_count'].astype(float)\n",
        "grants_clean_df['applicant_types_count'] = grants_clean_df['applicant_types_count'].astype(float)"
      ],
      "metadata": {
        "id": "nIk3-UllgbGB",
        "colab": {
          "base_uri": "https://localhost:8080/"
        },
        "outputId": "4a66dc84-baf7-47d9-887d-63fa382ec0be"
      },
      "execution_count": 20,
      "outputs": [
        {
          "output_type": "stream",
          "name": "stderr",
          "text": [
            "SettingWithCopyWarning: \n",
            "A value is trying to be set on a copy of a slice from a DataFrame.\n",
            "Try using .loc[row_indexer,col_indexer] = value instead\n",
            "\n",
            "See the caveats in the documentation: https://pandas.pydata.org/pandas-docs/stable/user_guide/indexing.html#returning-a-view-versus-a-copy\n",
            "SettingWithCopyWarning: \n",
            "A value is trying to be set on a copy of a slice from a DataFrame.\n",
            "Try using .loc[row_indexer,col_indexer] = value instead\n",
            "\n",
            "See the caveats in the documentation: https://pandas.pydata.org/pandas-docs/stable/user_guide/indexing.html#returning-a-view-versus-a-copy\n"
          ]
        }
      ]
    },
    {
      "cell_type": "code",
      "source": [
        "grants_clean_df['has_funding_limit'] = grants_clean_df.get('has_funding_limit', 0)\n",
        "grants_clean_df['agency_group'] = grants_clean_df.get('agency_group', 'unknown')"
      ],
      "metadata": {
        "id": "9Ec2BdS6gc5o",
        "colab": {
          "base_uri": "https://localhost:8080/"
        },
        "outputId": "f7ada8af-e071-4380-c436-f2cc90b4df48"
      },
      "execution_count": 21,
      "outputs": [
        {
          "output_type": "stream",
          "name": "stderr",
          "text": [
            "SettingWithCopyWarning: \n",
            "A value is trying to be set on a copy of a slice from a DataFrame.\n",
            "Try using .loc[row_indexer,col_indexer] = value instead\n",
            "\n",
            "See the caveats in the documentation: https://pandas.pydata.org/pandas-docs/stable/user_guide/indexing.html#returning-a-view-versus-a-copy\n",
            "SettingWithCopyWarning: \n",
            "A value is trying to be set on a copy of a slice from a DataFrame.\n",
            "Try using .loc[row_indexer,col_indexer] = value instead\n",
            "\n",
            "See the caveats in the documentation: https://pandas.pydata.org/pandas-docs/stable/user_guide/indexing.html#returning-a-view-versus-a-copy\n"
          ]
        }
      ]
    },
    {
      "cell_type": "code",
      "source": [
        "grants_clean_df = grants_clean_df.drop(columns=['category_explanation'], errors='ignore')"
      ],
      "metadata": {
        "id": "qO-S6ea3gfSb"
      },
      "execution_count": 22,
      "outputs": []
    },
    {
      "cell_type": "code",
      "source": [
        "grants_clean_df.columns"
      ],
      "metadata": {
        "id": "hxY5ebwhg58t",
        "colab": {
          "base_uri": "https://localhost:8080/"
        },
        "outputId": "e3ca96ed-288e-4013-aeee-5dab163ecfc6"
      },
      "execution_count": 23,
      "outputs": [
        {
          "output_type": "execute_result",
          "data": {
            "text/plain": [
              "Index(['opportunity_id', 'opportunity_number', 'opportunity_title', 'opportunity_status', 'agency',\n",
              "       'agency_code', 'agency_name', 'category', 'award_ceiling', 'award_floor',\n",
              "       'estimated_total_funding', 'expected_awards', 'post_date', 'close_date',\n",
              "       'funding_categories', 'applicant_types', 'funding_instruments', 'summary_description',\n",
              "       'eligibility_description', 'funding_range', 'summary_description_length',\n",
              "       'eligibility_description_length', 'funding_types_count', 'applicant_types_count',\n",
              "       'has_funding_limit', 'agency_group'],\n",
              "      dtype='object')"
            ]
          },
          "metadata": {},
          "execution_count": 23
        }
      ]
    },
    {
      "cell_type": "markdown",
      "source": [
        "# additional cleaning for researchers data\n"
      ],
      "metadata": {
        "id": "a_CjV_A3T2xf"
      }
    },
    {
      "cell_type": "code",
      "source": [
        "# Fill missing values for top_work columns\n",
        "for i in range(1, 6):\n",
        "    researchers_df[f'top_work_{i}_source'] = researchers_df[f'top_work_{i}_source'].fillna('unknown')\n",
        "    researchers_df[f'top_work_{i}_id'] = researchers_df[f'top_work_{i}_id'].fillna('unknown')\n",
        "    researchers_df[f'top_work_{i}_type'] = researchers_df[f'top_work_{i}_type'].fillna('unknown')\n",
        "    researchers_df[f'top_work_{i}_is_oa'] = researchers_df[f'top_work_{i}_is_oa'].fillna(False)\n",
        "    researchers_df[f'top_work_{i}_keywords'] = researchers_df[f'top_work_{i}_keywords'].fillna('unknown')\n",
        "\n",
        "# Fill missing values for top_collaborator columns\n",
        "for i in range(1, 6):\n",
        "    researchers_df[f'top_collaborator_{i}'] = researchers_df[f'top_collaborator_{i}'].fillna('unknown')"
      ],
      "metadata": {
        "id": "U_358FrsT6kn"
      },
      "execution_count": 24,
      "outputs": []
    },
    {
      "cell_type": "code",
      "source": [
        "researchers_df.columns"
      ],
      "metadata": {
        "id": "r_414y7eg0oF",
        "colab": {
          "base_uri": "https://localhost:8080/"
        },
        "outputId": "00f28be4-8773-4cde-b15f-0e7116fd1f71"
      },
      "execution_count": 25,
      "outputs": [
        {
          "output_type": "execute_result",
          "data": {
            "text/plain": [
              "Index(['researcher_id', 'researcher_name', 'total_citations', 'total_works', 'h_index',\n",
              "       'i10_index', 'concept_1', 'concept_1_score', 'concept_2', 'concept_2_score', 'years_active',\n",
              "       'recent_works_count', 'recent_citations', 'unique_venues', 'avg_coauthors',\n",
              "       'open_access_ratio', 'top_work_1_id', 'top_work_1_type', 'top_work_1_is_oa',\n",
              "       'top_work_1_keywords', 'top_work_1_source', 'top_work_2_id', 'top_work_2_type',\n",
              "       'top_work_2_is_oa', 'top_work_2_keywords', 'top_work_2_source', 'top_work_3_id',\n",
              "       'top_work_3_type', 'top_work_3_is_oa', 'top_work_3_keywords', 'top_work_3_source',\n",
              "       'top_work_4_id', 'top_work_4_type', 'top_work_4_is_oa', 'top_work_4_keywords',\n",
              "       'top_work_4_source', 'top_work_5_id', 'top_work_5_type', 'top_work_5_is_oa',\n",
              "       'top_work_5_keywords', 'top_work_5_source', 'top_collaborator_1', 'top_collaborator_2',\n",
              "       'top_collaborator_3', 'top_collaborator_4', 'top_collaborator_5'],\n",
              "      dtype='object')"
            ]
          },
          "metadata": {},
          "execution_count": 25
        }
      ]
    },
    {
      "cell_type": "markdown",
      "source": [
        "# some extra data cleaning before putitng into hopsworks."
      ],
      "metadata": {
        "id": "vcYH6XiMhGpv"
      }
    },
    {
      "cell_type": "code",
      "source": [
        "# Convert grants data types\n",
        "grants_clean_df['close_date'] = grants_clean_df['close_date'].astype(str)  # Ensure close_date is string\n",
        "grants_clean_df['funding_types_count'] = grants_clean_df['funding_types_count'].astype(float)\n",
        "grants_clean_df['applicant_types_count'] = grants_clean_df['applicant_types_count'].astype(float)\n",
        "\n",
        "# Convert researchers data types\n",
        "researchers_df['impact_ratio'] = researchers_df['impact_ratio'].astype(float)\n",
        "researchers_df['recent_impact_ratio'] = researchers_df['recent_impact_ratio'].astype(float)\n",
        "researchers_df['collaboration_score'] = researchers_df['collaboration_score'].astype(float)\n",
        "researchers_df['productivity_rate'] = researchers_df['productivity_rate'].astype(float)"
      ],
      "metadata": {
        "id": "oM3B-z6fhKmx"
      },
      "execution_count": 29,
      "outputs": []
    },
    {
      "cell_type": "markdown",
      "source": [
        "# feature engineering\n"
      ],
      "metadata": {
        "id": "DecpOqOlT8sZ"
      }
    },
    {
      "cell_type": "code",
      "source": [
        "# Impact Ratio\n",
        "researchers_df['impact_ratio'] = researchers_df['total_citations'] / researchers_df['total_works'].clip(lower=1)\n",
        "\n",
        "# Recent Impact Ratio\n",
        "researchers_df['recent_impact_ratio'] = researchers_df['recent_citations'] / researchers_df['recent_works_count'].clip(lower=1)\n",
        "\n",
        "# Collaboration Score\n",
        "researchers_df['collaboration_score'] = researchers_df['avg_coauthors'] * researchers_df['unique_venues']\n",
        "\n",
        "# Productivity Rate\n",
        "researchers_df['productivity_rate'] = researchers_df['total_works'] / researchers_df['years_active'].clip(lower=1)"
      ],
      "metadata": {
        "id": "lcI3PUMHT_sg"
      },
      "execution_count": 28,
      "outputs": []
    },
    {
      "cell_type": "code",
      "source": [
        "researchers_df.to_csv('researchers_final_cleaned.csv', index=False)"
      ],
      "metadata": {
        "id": "9zl2n4leUBlK"
      },
      "execution_count": 30,
      "outputs": []
    },
    {
      "cell_type": "markdown",
      "source": [
        "# Push Data to Hopsworks Feature Store\n"
      ],
      "metadata": {
        "id": "pFs_j9oKUFjU"
      }
    },
    {
      "cell_type": "code",
      "source": [
        "# # Delete the 'grants' feature group (if it exists)\n",
        "# try:\n",
        "#     grants_fg = fs.get_feature_group(name='grants', version=1)\n",
        "#     grants_fg.delete()\n",
        "#     logger.info(\"Deleted existing 'grants' feature group.\")\n",
        "# except Exception as e:\n",
        "#     logger.warning(f\"Could not delete 'grants' feature group: {str(e)}\")\n",
        "\n",
        "# # Delete the 'researchers' feature group (if it exists)\n",
        "# try:\n",
        "#     researchers_fg = fs.get_feature_group(name='researchers', version=1)\n",
        "#     researchers_fg.delete()\n",
        "#     logger.info(\"Deleted existing 'researchers' feature group.\")\n",
        "# except Exception as e:\n",
        "#     logger.warning(f\"Could not delete 'researchers' feature group: {str(e)}\")"
      ],
      "metadata": {
        "id": "RxMbb443hUAf"
      },
      "execution_count": null,
      "outputs": []
    },
    {
      "cell_type": "code",
      "source": [
        "# # Create grants feature group\n",
        "# grants_fg = fs.get_or_create_feature_group(\n",
        "#     name='grants',\n",
        "#     version=1,\n",
        "#     description='Processed grants data',\n",
        "#     primary_key=['opportunity_id'],  # Replace with your primary key column\n",
        "#     online_enabled=True,\n",
        "#     event_time='post_date'  # Replace with your event time column (if applicable)\n",
        "# )\n",
        "\n",
        "# # Create researchers feature group\n",
        "# researchers_fg = fs.get_or_create_feature_group(\n",
        "#     name='researchers',\n",
        "#     version=1,\n",
        "#     description='Processed researchers data',\n",
        "#     primary_key=['researcher_id'],  # Replace with your primary key column\n",
        "#     online_enabled=True\n",
        "# )"
      ],
      "metadata": {
        "id": "QnU5J22kR1nz"
      },
      "execution_count": null,
      "outputs": []
    },
    {
      "cell_type": "code",
      "source": [
        "# def insert_data(fg, df):\n",
        "#     \"\"\"Insert data into a feature group.\"\"\"\n",
        "#     try:\n",
        "#         logger.info(f\"Inserting data into feature group '{fg.name}'...\")\n",
        "#         fg.insert(df, write_options={\"wait_for_job\": True})\n",
        "#         logger.info(f\"Data inserted into feature group '{fg.name}' successfully.\")\n",
        "#         return True\n",
        "#     except Exception as e:\n",
        "#         logger.error(f\"Error inserting data into feature group '{fg.name}': {str(e)}\")\n",
        "#         return False\n",
        "\n",
        "# # Insert grants data\n",
        "# grants_success = insert_data(grants_fg, grants_clean_df)\n",
        "\n",
        "# # Insert researchers data\n",
        "# researchers_success = insert_data(researchers_fg, researchers_df)\n",
        "\n",
        "# if grants_success and researchers_success:\n",
        "#     logger.info(\"Both feature groups created and data inserted successfully!\")\n",
        "# else:\n",
        "#     logger.warning(\"Failed to insert data into one or more feature groups.\")"
      ],
      "metadata": {
        "id": "2_FPWpOVSYFs"
      },
      "execution_count": null,
      "outputs": []
    },
    {
      "cell_type": "markdown",
      "source": [
        "# Validating data from hopsworks to check if there is ny changes in data or not."
      ],
      "metadata": {
        "id": "87ajXdEwktET"
      }
    },
    {
      "cell_type": "code",
      "source": [
        "# Retrieve the feature group by name\n",
        "grants_fg = fs.get_feature_group(name=\"grants\", version=1)\n",
        "researchers_fg = fs.get_feature_group(name=\"researchers\", version=1)\n"
      ],
      "metadata": {
        "id": "bxgfa_dPUNlH"
      },
      "execution_count": 31,
      "outputs": []
    },
    {
      "cell_type": "code",
      "source": [
        "# Read data from the feature group\n",
        "grants = grants_fg.read()\n",
        "researchers = researchers_fg.read()\n",
        "\n",
        "# Display the first few rows of the data\n",
        "print(grants_df.head())\n",
        "print(researchers_df.head())"
      ],
      "metadata": {
        "id": "hABywVK7kz3N",
        "colab": {
          "base_uri": "https://localhost:8080/"
        },
        "outputId": "40fa94fa-bea4-4e72-dda7-2646fa85bbe1"
      },
      "execution_count": 32,
      "outputs": [
        {
          "output_type": "stream",
          "name": "stdout",
          "text": [
            "Finished: Reading data from Hopsworks, using Hopsworks Feature Query Service (2.04s) \n",
            "Finished: Reading data from Hopsworks, using Hopsworks Feature Query Service (0.85s) \n",
            "   opportunity_id      opportunity_number                                  opportunity_title  \\\n",
            "0           15936              07HQPA0028  Cooperative Ecosystem Studies Unit, Rocky Moun...   \n",
            "1           15937    ED-GRANTS-070907-001  Youth violence and related issues in persisten...   \n",
            "2           15939    ED-GRANTS-070907-002  State data collection; technical assistance CF...   \n",
            "3           15941       NNH07ZEA001N-EDL1        ROA 2007: A.6 Entry, Descent, and Landing 1   \n",
            "4           17675  CNCS-GRANTS-071307-001                               Volunteer Management   \n",
            "\n",
            "  opportunity_status     agency agency_code                                     agency_name  \\\n",
            "0           archived  DOI-USGS1   DOI-USGS1                               Geological Survey   \n",
            "1           archived         ED          ED                         Department of Education   \n",
            "2           archived         ED          ED                         Department of Education   \n",
            "3           archived    NASA-HQ     NASA-HQ                               NASA Headquarters   \n",
            "4           archived       CNCS        CNCS  Corporation for National and Community Service   \n",
            "\n",
            "        category  award_ceiling  award_floor  estimated_total_funding  expected_awards  post_date  \\\n",
            "0  discretionary        24957.0      24957.0                  24957.0              1.0 2007-07-09   \n",
            "1  discretionary            0.0          0.0                8594000.0             13.0 2007-07-09   \n",
            "2  discretionary       400000.0          0.0               13500000.0              0.0 2007-07-09   \n",
            "3  discretionary            0.0          0.0                      0.0              0.0 2007-07-09   \n",
            "4  discretionary       200000.0      50000.0                 800000.0              6.0 2007-07-13   \n",
            "\n",
            "   close_date                                 funding_categories  \\\n",
            "0  2007-07-19  science_technology_and_other_research_and_deve...   \n",
            "1  2007-08-08                                          education   \n",
            "2  2007-08-23                                          education   \n",
            "3  2007-08-20  science_technology_and_other_research_and_deve...   \n",
            "4  2007-09-06  disaster_prevention_and_relief,regional_develo...   \n",
            "\n",
            "                                     applicant_types          funding_instruments  \\\n",
            "0                                              other        cooperative_agreement   \n",
            "1                                              other                        grant   \n",
            "2                                              other                        grant   \n",
            "3                                       unrestricted  cooperative_agreement,grant   \n",
            "4  county_governments,nonprofits_non_higher_educa...                        grant   \n",
            "\n",
            "                                 summary_description  \\\n",
            "0  The U.S. Geological Surveys is offering a coo...   \n",
            "1  Note:  Each funding opportunity description i...   \n",
            "2  Note:  Each funding opportunity description i...   \n",
            "3  The National Aeronautics and Space Administrat...   \n",
            "4  The Corporation for National and Community Ser...   \n",
            "\n",
            "                             eligibility_description  \n",
            "0  This financial assistance opportunity is being...  \n",
            "1  Eligible Applicants: LEAs in which at least on...  \n",
            "2  Note: Eligible entities must submit separate a...  \n",
            "3                                       Unrestricted  \n",
            "4  The Corporation wants to ensure that all eligi...  \n",
            "                      researcher_id     researcher_name  total_citations  total_works  h_index  \\\n",
            "0  https://openalex.org/A5046299069      Larry R. Price            26301          208       52   \n",
            "1  https://openalex.org/A5039371296   Michael A. Huston            21477           93       43   \n",
            "2  https://openalex.org/A5070163403       Marcus Felson            21278          161       40   \n",
            "3  https://openalex.org/A5017593645  Togay Ozbakkaloglu            18853          345       75   \n",
            "4  https://openalex.org/A5048215687          Eric Kirby            12428          278       49   \n",
            "\n",
            "   i10_index          concept_1  concept_1_score           concept_2  concept_2_score  \\\n",
            "0        108   Computer science             73.1         Mathematics             70.7   \n",
            "1         61            Biology             93.5             Ecology             86.0   \n",
            "2         70          Sociology             72.7          Psychology             65.2   \n",
            "3        207  Materials science             95.9  Composite material             95.1   \n",
            "4         88            Geology             93.2             Biology             87.8   \n",
            "\n",
            "   years_active  recent_works_count  recent_citations  unique_venues  avg_coauthors  \\\n",
            "0            60                  17                92             79       4.947712   \n",
            "1            42                   1                 4             41       3.107527   \n",
            "2            55                  14               361             67       0.894410   \n",
            "3            21                 169              5487             75       4.439306   \n",
            "4            34                  53               210             66       4.243728   \n",
            "\n",
            "   open_access_ratio                     top_work_1_id top_work_1_type  top_work_1_is_oa  \\\n",
            "0           0.392157  https://openalex.org/W2133821880         article             False   \n",
            "1           0.236559  https://openalex.org/W2144845076          review             False   \n",
            "2           0.118012  https://openalex.org/W4249855545         article             False   \n",
            "3           0.190751  https://openalex.org/W2973550783          review             False   \n",
            "4           0.261649  https://openalex.org/W2225905194    book-chapter             False   \n",
            "\n",
            "                                 top_work_1_keywords  \\\n",
            "0  Exposure therapy,Anxiety,Virtual Reality Expos...   \n",
            "1  Biodiversity,Ecosystem,Ecosystem services,Abio...   \n",
            "2  Criminology,Crime rate,Econometrics,Sociology,...   \n",
            "3  Materials science,Composite material,Environme...   \n",
            "4          Geology,Scaling,Fluvial,Tectonics,Erosion   \n",
            "\n",
            "                               top_work_1_source                     top_work_2_id  \\\n",
            "0  Journal of Consulting and Clinical Psychology  https://openalex.org/W4250286362   \n",
            "1                                        Science  https://openalex.org/W2060793884   \n",
            "2                   American Sociological Review  https://openalex.org/W2088047416   \n",
            "3                   Journal of Materials Science   https://openalex.org/W795064871   \n",
            "4           Geological Society of America eBooks  https://openalex.org/W2159569412   \n",
            "\n",
            "  top_work_2_type  top_work_2_is_oa                                top_work_2_keywords  \\\n",
            "0         article             False  Psychology,Exposure therapy,Virtual Reality Ex...   \n",
            "1         article             False  Competitive exclusion,Diversity (politics),Eco...   \n",
            "2    book-chapter              True                              Criminology,Sociology   \n",
            "3         article             False  Materials science,Composite material,Polypropy...   \n",
            "4         article             False  Geology,Tectonics,Channel (broadcasting),Geomo...   \n",
            "\n",
            "                               top_work_2_source                     top_work_3_id  \\\n",
            "0  Journal of Consulting and Clinical Psychology  https://openalex.org/W2198581161   \n",
            "1                        The American Naturalist  https://openalex.org/W2095515405   \n",
            "2                               Routledge eBooks  https://openalex.org/W4237010783   \n",
            "3            Construction and Building Materials  https://openalex.org/W2295254170   \n",
            "4                  Journal of Structural Geology  https://openalex.org/W2123112468   \n",
            "\n",
            "  top_work_3_type  top_work_3_is_oa                                top_work_3_keywords  \\\n",
            "0         article              True  LIGO,Gravitational wave,Physics,Sky,Markov cha...   \n",
            "1         article             False  Diversity (politics),Geography,Ecology,Biodive...   \n",
            "2            book             False  Everyday life,Criminology,Sociology,Psychology...   \n",
            "3          review             False  Plastic waste,Reuse,Materials science,Waste ma...   \n",
            "4         article             False  Citation,Geology,Library science,Physical geog...   \n",
            "\n",
            "                        top_work_3_source                     top_work_4_id top_work_4_type  \\\n",
            "0  Physical review. D/Physical review. D.  https://openalex.org/W2044000452         article   \n",
            "1                   Choice Reviews Online  https://openalex.org/W2068662142         article   \n",
            "2                                 unknown  https://openalex.org/W1484003379            book   \n",
            "3                        Waste Management  https://openalex.org/W2076702855         article   \n",
            "4                                 Geology  https://openalex.org/W1984774984         article   \n",
            "\n",
            "   top_work_4_is_oa                                top_work_4_keywords  \\\n",
            "0              True  Pulsar,Gravitational wave,Physics,Binary pulsa...   \n",
            "1             False  Biology,Biodiversity,Abiotic component,Ecosyst...   \n",
            "2             False  Fallacy,Criminology,Commit,Everyday life,Cultu...   \n",
            "3             False  Fibre-reinforced plastic,Structural engineerin...   \n",
            "4              True  China,Geology,Seismology,Context (archaeology)...   \n",
            "\n",
            "                                   top_work_4_source                     top_work_5_id  \\\n",
            "0  Physical review. D. Particles, fields, gravita...  https://openalex.org/W2025106538   \n",
            "1                                          Oecologia  https://openalex.org/W2088443113   \n",
            "2                                            unknown  https://openalex.org/W2311383940   \n",
            "3                             Engineering Structures  https://openalex.org/W2330198871   \n",
            "4                                          GSA Today  https://openalex.org/W2145347294   \n",
            "\n",
            "  top_work_5_type  top_work_5_is_oa                                top_work_5_keywords  \\\n",
            "0         article             False  Psychology,Exposure therapy,Virtual reality,Ps...   \n",
            "1         article             False  Microsite,Facilitation,Competition (biology),C...   \n",
            "2         article             False  Consumption (sociology),Sociology,Computer sci...   \n",
            "3          review             False  Materials science,Shrinkage,Flexural strength,...   \n",
            "4         article              True  Thermochronology,Geology,Denudation,Fission tr...   \n",
            "\n",
            "                               top_work_5_source                top_collaborator_1  \\\n",
            "0  Journal of Consulting and Clinical Psychology  https://openalex.org/A5019375929   \n",
            "1                                        Ecology  https://openalex.org/A5024934767   \n",
            "2                  American Behavioral Scientist  https://openalex.org/A5046958460   \n",
            "3                   Journal of Materials Science  https://openalex.org/A5082132566   \n",
            "4                                      Tectonics  https://openalex.org/A5038349665   \n",
            "\n",
            "                 top_collaborator_2                top_collaborator_3  \\\n",
            "0  https://openalex.org/A5009004096  https://openalex.org/A5101870896   \n",
            "1  https://openalex.org/A5110483019  https://openalex.org/A5038398105   \n",
            "2  https://openalex.org/A5102936013  https://openalex.org/A5037722191   \n",
            "3  https://openalex.org/A5043329482  https://openalex.org/A5040407357   \n",
            "4  https://openalex.org/A5090086069  https://openalex.org/A5100685756   \n",
            "\n",
            "                 top_collaborator_4                top_collaborator_5  impact_ratio  \\\n",
            "0  https://openalex.org/A5085670077  https://openalex.org/A5107483970    126.447115   \n",
            "1  https://openalex.org/A5008653559  https://openalex.org/A5103521151    230.935484   \n",
            "2  https://openalex.org/A5109563801  https://openalex.org/A5072647442    132.161491   \n",
            "3  https://openalex.org/A5011064916  https://openalex.org/A5019907987     54.646377   \n",
            "4  https://openalex.org/A5038670501  https://openalex.org/A5009378840     44.705036   \n",
            "\n",
            "   recent_impact_ratio  collaboration_score  productivity_rate  \n",
            "0             5.411765           390.869281           3.466667  \n",
            "1             4.000000           127.408602           2.214286  \n",
            "2            25.785714            59.925466           2.927273  \n",
            "3            32.467456           332.947977          16.428571  \n",
            "4             3.962264           280.086022           8.176471  \n"
          ]
        }
      ]
    },
    {
      "cell_type": "code",
      "source": [
        "# Check the shape of the data\n",
        "print(grants_df.shape)\n",
        "print(researchers_df.shape)\n",
        "\n",
        "# Get summary statistics\n",
        "print(grants_df.describe())\n",
        "print(researchers_df.describe())\n",
        "\n",
        "# Check for missing values\n",
        "print(grants_df.isnull().sum())\n",
        "print(researchers_df.isnull().sum())"
      ],
      "metadata": {
        "id": "I63ZF09tk1EI",
        "colab": {
          "base_uri": "https://localhost:8080/"
        },
        "outputId": "be4986c0-d722-4c63-8498-b0d009da8d5e"
      },
      "execution_count": 33,
      "outputs": [
        {
          "output_type": "stream",
          "name": "stdout",
          "text": [
            "(5000, 19)\n",
            "(500, 50)\n",
            "       opportunity_id  award_ceiling   award_floor  estimated_total_funding  expected_awards  \\\n",
            "count     5000.000000   5.000000e+03  5.000000e+03             5.000000e+03       5000.00000   \n",
            "mean     44692.556600   3.198742e+06  8.727985e+05             8.805624e+06         82.49000   \n",
            "min      15936.000000   0.000000e+00  0.000000e+00             0.000000e+00          0.00000   \n",
            "25%      42814.250000   0.000000e+00  0.000000e+00             0.000000e+00          0.00000   \n",
            "50%      44584.500000   6.000000e+04  0.000000e+00             1.000000e+05          1.00000   \n",
            "75%      46723.000000   4.500000e+05  5.000000e+03             2.000000e+06          4.00000   \n",
            "max      48949.000000   1.300000e+09  1.300000e+09             2.600000e+09     175000.00000   \n",
            "std       2576.815863   2.979877e+07  1.988934e+07             7.276693e+07       3301.66386   \n",
            "\n",
            "                           post_date  \n",
            "count                           5000  \n",
            "mean   2008-09-28 12:35:42.719999744  \n",
            "min              2004-03-22 00:00:00  \n",
            "25%              2008-05-20 00:00:00  \n",
            "50%              2008-12-18 00:00:00  \n",
            "75%              2009-04-10 00:00:00  \n",
            "max              2023-11-01 00:00:00  \n",
            "std                              NaN  \n",
            "       total_citations  total_works     h_index   i10_index  concept_1_score  concept_2_score  \\\n",
            "count       500.000000   500.000000  500.000000  500.000000       500.000000       500.000000   \n",
            "mean       1869.268000    71.550000   17.364000   27.132000        89.107000        79.769400   \n",
            "std        2496.276038    58.799679    9.207881   23.741058        11.694632        14.050606   \n",
            "min         490.000000     1.000000    1.000000    1.000000        38.500000        32.800000   \n",
            "25%         703.750000    33.000000   12.000000   13.000000        82.175000        70.175000   \n",
            "50%        1038.500000    54.000000   15.000000   19.000000        92.150000        80.900000   \n",
            "75%        2013.750000    89.000000   21.000000   32.000000        98.000000        90.725000   \n",
            "max       26301.000000   352.000000   75.000000  207.000000       128.000000       123.000000   \n",
            "\n",
            "       years_active  recent_works_count  recent_citations  unique_venues  avg_coauthors  \\\n",
            "count    500.000000          500.000000        500.000000     500.000000     500.000000   \n",
            "mean      36.392000           14.740000        107.822000      28.462000       3.522347   \n",
            "std       25.592739           22.318527        322.786152      18.086536       2.513624   \n",
            "min        1.000000            0.000000          0.000000       1.000000       0.398734   \n",
            "25%       21.000000            1.000000          0.000000      16.750000       1.892616   \n",
            "50%       31.000000            7.500000         23.500000      24.000000       2.905870   \n",
            "75%       45.000000           19.000000         99.500000      37.000000       4.439095   \n",
            "max      225.000000          220.000000       5487.000000     104.000000      20.767857   \n",
            "\n",
            "       open_access_ratio  impact_ratio  recent_impact_ratio  collaboration_score  \\\n",
            "count         500.000000    500.000000           500.000000           500.000000   \n",
            "mean            0.258893     44.990320             4.777459           103.503442   \n",
            "std             0.209525    127.368771             6.785574           108.356551   \n",
            "min             0.000000      3.032110             0.000000             2.666667   \n",
            "25%             0.104314     14.108981             0.000000            35.167945   \n",
            "50%             0.211646     21.856667             2.666667            69.023525   \n",
            "75%             0.368105     36.120833             6.398810           127.765754   \n",
            "max             1.000000   1371.000000            70.200000          1129.551440   \n",
            "\n",
            "       productivity_rate  \n",
            "count         500.000000  \n",
            "mean            2.314678  \n",
            "std             1.945263  \n",
            "min             0.148936  \n",
            "25%             1.089015  \n",
            "50%             1.877074  \n",
            "75%             2.866477  \n",
            "max            16.428571  \n",
            "opportunity_id                0\n",
            "opportunity_number            0\n",
            "opportunity_title             0\n",
            "opportunity_status            0\n",
            "agency                        0\n",
            "agency_code                   0\n",
            "agency_name                   0\n",
            "category                      1\n",
            "award_ceiling                 0\n",
            "award_floor                   0\n",
            "estimated_total_funding       0\n",
            "expected_awards               0\n",
            "post_date                     0\n",
            "close_date                  409\n",
            "funding_categories            4\n",
            "applicant_types               4\n",
            "funding_instruments           4\n",
            "summary_description           0\n",
            "eligibility_description    1530\n",
            "dtype: int64\n",
            "researcher_id          0\n",
            "researcher_name        0\n",
            "total_citations        0\n",
            "total_works            0\n",
            "h_index                0\n",
            "i10_index              0\n",
            "concept_1              0\n",
            "concept_1_score        0\n",
            "concept_2              0\n",
            "concept_2_score        0\n",
            "years_active           0\n",
            "recent_works_count     0\n",
            "recent_citations       0\n",
            "unique_venues          0\n",
            "avg_coauthors          0\n",
            "open_access_ratio      0\n",
            "top_work_1_id          0\n",
            "top_work_1_type        0\n",
            "top_work_1_is_oa       0\n",
            "top_work_1_keywords    0\n",
            "top_work_1_source      0\n",
            "top_work_2_id          0\n",
            "top_work_2_type        0\n",
            "top_work_2_is_oa       0\n",
            "top_work_2_keywords    0\n",
            "top_work_2_source      0\n",
            "top_work_3_id          0\n",
            "top_work_3_type        0\n",
            "top_work_3_is_oa       0\n",
            "top_work_3_keywords    0\n",
            "top_work_3_source      0\n",
            "top_work_4_id          0\n",
            "top_work_4_type        0\n",
            "top_work_4_is_oa       0\n",
            "top_work_4_keywords    0\n",
            "top_work_4_source      0\n",
            "top_work_5_id          0\n",
            "top_work_5_type        0\n",
            "top_work_5_is_oa       0\n",
            "top_work_5_keywords    0\n",
            "top_work_5_source      0\n",
            "top_collaborator_1     0\n",
            "top_collaborator_2     0\n",
            "top_collaborator_3     0\n",
            "top_collaborator_4     0\n",
            "top_collaborator_5     0\n",
            "impact_ratio           0\n",
            "recent_impact_ratio    0\n",
            "collaboration_score    0\n",
            "productivity_rate      0\n",
            "dtype: int64\n"
          ]
        }
      ]
    },
    {
      "cell_type": "code",
      "source": [
        "# Retrieve the feature groups\n",
        "grants_fg = fs.get_feature_group(name='grants', version=1)\n",
        "researchers_fg = fs.get_feature_group(name='researchers', version=1)\n",
        "\n",
        "# Read the data into Pandas DataFrames\n",
        "grants_data_from_hopsworks = grants_fg.read()\n",
        "researchers_data_from_hopsworks = researchers_fg.read()"
      ],
      "metadata": {
        "colab": {
          "base_uri": "https://localhost:8080/"
        },
        "id": "QIDGJEZVm9VT",
        "outputId": "1094c00f-120d-4a29-dea8-540174132f7a"
      },
      "execution_count": 36,
      "outputs": [
        {
          "output_type": "stream",
          "name": "stdout",
          "text": [
            "Finished: Reading data from Hopsworks, using Hopsworks Feature Query Service (1.99s) \n",
            "Finished: Reading data from Hopsworks, using Hopsworks Feature Query Service (0.61s) \n"
          ]
        }
      ]
    },
    {
      "cell_type": "code",
      "source": [
        "grants_data= grants_clean_df\n",
        "researchers_data = researchers_df"
      ],
      "metadata": {
        "id": "wkLfGjWolL6o"
      },
      "execution_count": 34,
      "outputs": []
    },
    {
      "cell_type": "code",
      "source": [
        "grants_validation = grants_data.equals(grants_data_from_hopsworks)\n",
        "print(f\"Grants data validation: {'Success' if grants_validation else 'Failure'}\")\n",
        "\n",
        "# Validate researchers data\n",
        "researchers_validation = researchers_data.equals(researchers_data_from_hopsworks)\n",
        "print(f\"Researchers data validation: {'Success' if researchers_validation else 'Failure'}\")\n"
      ],
      "metadata": {
        "id": "KBzdEwJhk5Yu",
        "colab": {
          "base_uri": "https://localhost:8080/"
        },
        "outputId": "3eb8556b-5546-413e-b643-5e6dc22f3f18"
      },
      "execution_count": 37,
      "outputs": [
        {
          "output_type": "stream",
          "name": "stdout",
          "text": [
            "Grants data validation: Failure\n",
            "Researchers data validation: Failure\n"
          ]
        }
      ]
    },
    {
      "cell_type": "code",
      "source": [
        "# Check schema for grants data\n",
        "print(\"Original grants schema:\", grants_data.dtypes)\n",
        "print(\"Hopsworks grants schema:\", grants_data_from_hopsworks.dtypes)\n",
        "\n",
        "# Check schema for researchers data\n",
        "print(\"Original researchers schema:\", researchers_data.dtypes)\n",
        "print(\"Hopsworks researchers schema:\", researchers_data_from_hopsworks.dtypes)"
      ],
      "metadata": {
        "colab": {
          "base_uri": "https://localhost:8080/"
        },
        "id": "pDsvSxBom4GY",
        "outputId": "72262f72-57e0-4030-95b4-0e86ff37b1e6"
      },
      "execution_count": 38,
      "outputs": [
        {
          "output_type": "stream",
          "name": "stdout",
          "text": [
            "Original grants schema: opportunity_id                             int64\n",
            "opportunity_number                        object\n",
            "opportunity_title                         object\n",
            "opportunity_status                        object\n",
            "agency                                    object\n",
            "agency_code                               object\n",
            "agency_name                               object\n",
            "category                                  object\n",
            "award_ceiling                            float64\n",
            "award_floor                              float64\n",
            "estimated_total_funding                  float64\n",
            "expected_awards                          float64\n",
            "post_date                         datetime64[ns]\n",
            "close_date                                object\n",
            "funding_categories                        object\n",
            "applicant_types                           object\n",
            "funding_instruments                       object\n",
            "summary_description                       object\n",
            "eligibility_description                   object\n",
            "funding_range                            float64\n",
            "summary_description_length                 int64\n",
            "eligibility_description_length             int64\n",
            "funding_types_count                      float64\n",
            "applicant_types_count                    float64\n",
            "has_funding_limit                          int64\n",
            "agency_group                              object\n",
            "dtype: object\n",
            "Hopsworks grants schema: opportunity_id                                      int64\n",
            "opportunity_number                                 object\n",
            "opportunity_title                                  object\n",
            "opportunity_status                                 object\n",
            "agency                                             object\n",
            "agency_code                                        object\n",
            "agency_name                                        object\n",
            "category                                           object\n",
            "award_ceiling                                     float64\n",
            "award_floor                                       float64\n",
            "estimated_total_funding                           float64\n",
            "expected_awards                                   float64\n",
            "post_date                         datetime64[us, Etc/UTC]\n",
            "close_date                                         object\n",
            "funding_categories                                 object\n",
            "applicant_types                                    object\n",
            "funding_instruments                                object\n",
            "summary_description                                object\n",
            "eligibility_description                            object\n",
            "funding_range                                     float64\n",
            "summary_description_length                          int64\n",
            "eligibility_description_length                      int64\n",
            "funding_types_count                               float64\n",
            "applicant_types_count                             float64\n",
            "has_funding_limit                                   int64\n",
            "agency_group                                       object\n",
            "dtype: object\n",
            "Original researchers schema: researcher_id           object\n",
            "researcher_name         object\n",
            "total_citations          int64\n",
            "total_works              int64\n",
            "h_index                  int64\n",
            "i10_index                int64\n",
            "concept_1               object\n",
            "concept_1_score        float64\n",
            "concept_2               object\n",
            "concept_2_score        float64\n",
            "years_active             int64\n",
            "recent_works_count       int64\n",
            "recent_citations         int64\n",
            "unique_venues            int64\n",
            "avg_coauthors          float64\n",
            "open_access_ratio      float64\n",
            "top_work_1_id           object\n",
            "top_work_1_type         object\n",
            "top_work_1_is_oa          bool\n",
            "top_work_1_keywords     object\n",
            "top_work_1_source       object\n",
            "top_work_2_id           object\n",
            "top_work_2_type         object\n",
            "top_work_2_is_oa          bool\n",
            "top_work_2_keywords     object\n",
            "top_work_2_source       object\n",
            "top_work_3_id           object\n",
            "top_work_3_type         object\n",
            "top_work_3_is_oa          bool\n",
            "top_work_3_keywords     object\n",
            "top_work_3_source       object\n",
            "top_work_4_id           object\n",
            "top_work_4_type         object\n",
            "top_work_4_is_oa          bool\n",
            "top_work_4_keywords     object\n",
            "top_work_4_source       object\n",
            "top_work_5_id           object\n",
            "top_work_5_type         object\n",
            "top_work_5_is_oa          bool\n",
            "top_work_5_keywords     object\n",
            "top_work_5_source       object\n",
            "top_collaborator_1      object\n",
            "top_collaborator_2      object\n",
            "top_collaborator_3      object\n",
            "top_collaborator_4      object\n",
            "top_collaborator_5      object\n",
            "impact_ratio           float64\n",
            "recent_impact_ratio    float64\n",
            "collaboration_score    float64\n",
            "productivity_rate      float64\n",
            "dtype: object\n",
            "Hopsworks researchers schema: researcher_id           object\n",
            "researcher_name         object\n",
            "total_citations          int64\n",
            "total_works              int64\n",
            "h_index                  int64\n",
            "i10_index                int64\n",
            "concept_1               object\n",
            "concept_1_score        float64\n",
            "concept_2               object\n",
            "concept_2_score        float64\n",
            "years_active             int64\n",
            "recent_works_count       int64\n",
            "recent_citations         int64\n",
            "unique_venues            int64\n",
            "avg_coauthors          float64\n",
            "open_access_ratio      float64\n",
            "top_work_1_id           object\n",
            "top_work_1_type         object\n",
            "top_work_1_is_oa          bool\n",
            "top_work_1_keywords     object\n",
            "top_work_1_source       object\n",
            "top_work_2_id           object\n",
            "top_work_2_type         object\n",
            "top_work_2_is_oa          bool\n",
            "top_work_2_keywords     object\n",
            "top_work_2_source       object\n",
            "top_work_3_id           object\n",
            "top_work_3_type         object\n",
            "top_work_3_is_oa          bool\n",
            "top_work_3_keywords     object\n",
            "top_work_3_source       object\n",
            "top_work_4_id           object\n",
            "top_work_4_type         object\n",
            "top_work_4_is_oa          bool\n",
            "top_work_4_keywords     object\n",
            "top_work_4_source       object\n",
            "top_work_5_id           object\n",
            "top_work_5_type         object\n",
            "top_work_5_is_oa          bool\n",
            "top_work_5_keywords     object\n",
            "top_work_5_source       object\n",
            "top_collaborator_1      object\n",
            "top_collaborator_2      object\n",
            "top_collaborator_3      object\n",
            "top_collaborator_4      object\n",
            "top_collaborator_5      object\n",
            "impact_ratio           float64\n",
            "recent_impact_ratio    float64\n",
            "collaboration_score    float64\n",
            "productivity_rate      float64\n",
            "dtype: object\n"
          ]
        }
      ]
    },
    {
      "cell_type": "code",
      "source": [
        "print(f\"Original grants row count: {len(grants_data)}\")\n",
        "print(f\"Hopsworks grants row count: {len(grants_data_from_hopsworks)}\")\n",
        "\n",
        "print(f\"Original researchers row count: {len(researchers_data)}\")\n",
        "print(f\"Hopsworks researchers row count: {len(researchers_data_from_hopsworks)}\")"
      ],
      "metadata": {
        "colab": {
          "base_uri": "https://localhost:8080/"
        },
        "id": "Sp8fyybMnOh0",
        "outputId": "3041ce9f-e5fe-4c6b-ca85-88619805d1ab"
      },
      "execution_count": 39,
      "outputs": [
        {
          "output_type": "stream",
          "name": "stdout",
          "text": [
            "Original grants row count: 3470\n",
            "Hopsworks grants row count: 3470\n",
            "Original researchers row count: 500\n",
            "Hopsworks researchers row count: 500\n"
          ]
        }
      ]
    },
    {
      "cell_type": "code",
      "source": [
        "# Compare grants data\n",
        "grants_diff = pd.concat([grants_data, grants_data_from_hopsworks]).drop_duplicates(keep=False)\n",
        "print(\"Differences in grants data:\")\n",
        "print(grants_diff)\n",
        "\n",
        "# Compare researchers data\n",
        "researchers_diff = pd.concat([researchers_data, researchers_data_from_hopsworks]).drop_duplicates(keep=False)\n",
        "print(\"Differences in researchers data:\")\n",
        "print(researchers_diff)"
      ],
      "metadata": {
        "colab": {
          "base_uri": "https://localhost:8080/"
        },
        "id": "6mexrGb-nR4g",
        "outputId": "b3fb5ce7-d6f3-459e-c03a-711b66446f50"
      },
      "execution_count": 40,
      "outputs": [
        {
          "output_type": "stream",
          "name": "stdout",
          "text": [
            "Differences in grants data:\n",
            "      opportunity_id      opportunity_number                                  opportunity_title  \\\n",
            "0              15936              07HQPA0028  Cooperative Ecosystem Studies Unit, Rocky Moun...   \n",
            "1              15937    ED-GRANTS-070907-001  Youth violence and related issues in persisten...   \n",
            "2              15939    ED-GRANTS-070907-002  State data collection; technical assistance CF...   \n",
            "3              15941       NNH07ZEA001N-EDL1        ROA 2007: A.6 Entry, Descent, and Landing 1   \n",
            "4              17675  CNCS-GRANTS-071307-001                               Volunteer Management   \n",
            "...              ...                     ...                                                ...   \n",
            "3465           47238             AFRP-09-N02                   Cottonwood Creek Sediment Budget   \n",
            "3466           44951              PAR-07-161  Innovations in Biomedical Computational Scienc...   \n",
            "3467           44543      EPA-R9-WST7-09-004                 Tribal Resource Conservation Funds   \n",
            "3468           45439           RFA-HL-10-003  Phase II Clinical Trials of Novel Therapies fo...   \n",
            "3469           43912              PAR-07-344  Innovations in Biomedical Computational Scienc...   \n",
            "\n",
            "     opportunity_status     agency agency_code                                     agency_name  \\\n",
            "0              archived  DOI-USGS1   DOI-USGS1                               Geological Survey   \n",
            "1              archived         ED          ED                         Department of Education   \n",
            "2              archived         ED          ED                         Department of Education   \n",
            "3              archived    NASA-HQ     NASA-HQ                               NASA Headquarters   \n",
            "4              archived       CNCS        CNCS  Corporation for National and Community Service   \n",
            "...                 ...        ...         ...                                             ...   \n",
            "3465           archived    DOI-FWS     DOI-FWS                       Fish and Wildlife Service   \n",
            "3466           archived  HHS-NIH11   HHS-NIH11                   National Institutes of Health   \n",
            "3467           archived        EPA         EPA                 Environmental Protection Agency   \n",
            "3468           archived  HHS-NIH11   HHS-NIH11                   National Institutes of Health   \n",
            "3469           archived  HHS-NIH11   HHS-NIH11                   National Institutes of Health   \n",
            "\n",
            "           category  award_ceiling  award_floor  estimated_total_funding  expected_awards  \\\n",
            "0     discretionary        24957.0      24957.0                  24957.0              1.0   \n",
            "1     discretionary            0.0          0.0                8594000.0             13.0   \n",
            "2     discretionary       400000.0          0.0               13500000.0              0.0   \n",
            "3     discretionary            0.0          0.0                      0.0              0.0   \n",
            "4     discretionary       200000.0      50000.0                 800000.0              6.0   \n",
            "...             ...            ...          ...                      ...              ...   \n",
            "3465  discretionary       120000.0          0.0                      0.0              0.0   \n",
            "3466  discretionary            0.0          0.0                      0.0              0.0   \n",
            "3467  discretionary        50000.0      20000.0                 200000.0              5.0   \n",
            "3468  discretionary       800000.0          0.0               40600000.0              6.0   \n",
            "3469  discretionary            0.0          0.0                      0.0              0.0   \n",
            "\n",
            "                      post_date  close_date                                 funding_categories  \\\n",
            "0           2007-07-09 00:00:00  2007-07-19  science_technology_and_other_research_and_deve...   \n",
            "1           2007-07-09 00:00:00  2007-08-08                                          education   \n",
            "2           2007-07-09 00:00:00  2007-08-23                                          education   \n",
            "3           2007-07-09 00:00:00  2007-08-20  science_technology_and_other_research_and_deve...   \n",
            "4           2007-07-13 00:00:00  2007-09-06  disaster_prevention_and_relief,regional_develo...   \n",
            "...                         ...         ...                                                ...   \n",
            "3465  2009-05-07 00:00:00+00:00  2009-05-29                      natural_resources,environment   \n",
            "3466  2006-12-12 00:00:00+00:00  2009-09-07                       health,education,environment   \n",
            "3467  2008-12-31 00:00:00+00:00  2009-02-20                                        environment   \n",
            "3468  2009-02-23 00:00:00+00:00  2010-09-15                                             health   \n",
            "3469  2007-03-29 00:00:00+00:00  2009-09-07                       education,environment,health   \n",
            "\n",
            "                                        applicant_types          funding_instruments  \\\n",
            "0                                                 other        cooperative_agreement   \n",
            "1                                                 other                        grant   \n",
            "2                                                 other                        grant   \n",
            "3                                          unrestricted  cooperative_agreement,grant   \n",
            "4     county_governments,nonprofits_non_higher_educa...                        grant   \n",
            "...                                                 ...                          ...   \n",
            "3465                                              other                        grant   \n",
            "3466                             other,small_businesses                        grant   \n",
            "3467  federally_recognized_native_american_tribal_go...  grant,cooperative_agreement   \n",
            "3468  public_and_indian_housing_authorities,nonprofi...        cooperative_agreement   \n",
            "3469  other,state_governments,for_profit_organizatio...                        grant   \n",
            "\n",
            "                                    summary_description  \\\n",
            "0     The U.S. Geological Surveys is offering a coo...   \n",
            "1     Note:  Each funding opportunity description i...   \n",
            "2     Note:  Each funding opportunity description i...   \n",
            "3     The National Aeronautics and Space Administrat...   \n",
            "4     The Corporation for National and Community Ser...   \n",
            "...                                                 ...   \n",
            "3465  Funding is available through the U.S. Fish and...   \n",
            "3466  This funding opportunity announcement (FOA) so...   \n",
            "3467  The U.S. Environmental Protection Agency Regio...   \n",
            "3468  Purpose. This Funding Opportunity Announcement...   \n",
            "3469  -Purpose. The NIH is interested in promoting r...   \n",
            "\n",
            "                                eligibility_description  funding_range  \\\n",
            "0     This financial assistance opportunity is being...            0.0   \n",
            "1     Eligible Applicants: LEAs in which at least on...            0.0   \n",
            "2     Note: Eligible entities must submit separate a...       400000.0   \n",
            "3                                          Unrestricted            0.0   \n",
            "4     The Corporation wants to ensure that all eligi...       150000.0   \n",
            "...                                                 ...            ...   \n",
            "3465  This is not an application process for the Cot...       120000.0   \n",
            "3466  Foreign institutions are not eligible to apply...            0.0   \n",
            "3467  See Section III of the announcement for additi...        30000.0   \n",
            "3468  Other Eligible Applicants include the followin...       800000.0   \n",
            "3469  Foreign institutions are eligible to apply. El...            0.0   \n",
            "\n",
            "      summary_description_length  eligibility_description_length  funding_types_count  \\\n",
            "0                            955                             329                  1.0   \n",
            "1                           2060                             337                  1.0   \n",
            "2                           1987                             972                  1.0   \n",
            "3                           4202                              12                  1.0   \n",
            "4                           2253                            2094                  7.0   \n",
            "...                          ...                             ...                  ...   \n",
            "3465                         914                            1420                  2.0   \n",
            "3466                        2791                            1194                  3.0   \n",
            "3467                         693                              75                  1.0   \n",
            "3468                         873                             468                  1.0   \n",
            "3469                        1427                             155                  3.0   \n",
            "\n",
            "      applicant_types_count  has_funding_limit agency_group  \n",
            "0                       1.0                  0      unknown  \n",
            "1                       1.0                  0      unknown  \n",
            "2                       1.0                  0      unknown  \n",
            "3                       1.0                  0      unknown  \n",
            "4                      10.0                  0      unknown  \n",
            "...                     ...                ...          ...  \n",
            "3465                    1.0                  0      unknown  \n",
            "3466                    2.0                  0      unknown  \n",
            "3467                    2.0                  0      unknown  \n",
            "3468                   15.0                  0      unknown  \n",
            "3469                   15.0                  0      unknown  \n",
            "\n",
            "[6940 rows x 26 columns]\n",
            "Differences in researchers data:\n",
            "Empty DataFrame\n",
            "Columns: [researcher_id, researcher_name, total_citations, total_works, h_index, i10_index, concept_1, concept_1_score, concept_2, concept_2_score, years_active, recent_works_count, recent_citations, unique_venues, avg_coauthors, open_access_ratio, top_work_1_id, top_work_1_type, top_work_1_is_oa, top_work_1_keywords, top_work_1_source, top_work_2_id, top_work_2_type, top_work_2_is_oa, top_work_2_keywords, top_work_2_source, top_work_3_id, top_work_3_type, top_work_3_is_oa, top_work_3_keywords, top_work_3_source, top_work_4_id, top_work_4_type, top_work_4_is_oa, top_work_4_keywords, top_work_4_source, top_work_5_id, top_work_5_type, top_work_5_is_oa, top_work_5_keywords, top_work_5_source, top_collaborator_1, top_collaborator_2, top_collaborator_3, top_collaborator_4, top_collaborator_5, impact_ratio, recent_impact_ratio, collaboration_score, productivity_rate]\n",
            "Index: []\n"
          ]
        }
      ]
    },
    {
      "cell_type": "code",
      "source": [
        "# Check for missing or extra columns in grants data\n",
        "grants_original_columns = set(grants_data.columns)\n",
        "grants_hopsworks_columns = set(grants_data_from_hopsworks.columns)\n",
        "\n",
        "print(\"Missing columns in Hopsworks grants data:\", grants_original_columns - grants_hopsworks_columns)\n",
        "print(\"Extra columns in Hopsworks grants data:\", grants_hopsworks_columns - grants_original_columns)\n",
        "\n",
        "# Check for missing or extra columns in researchers data\n",
        "researchers_original_columns = set(researchers_data.columns)\n",
        "researchers_hopsworks_columns = set(researchers_data_from_hopsworks.columns)\n",
        "\n",
        "print(\"Missing columns in Hopsworks researchers data:\", researchers_original_columns - researchers_hopsworks_columns)\n",
        "print(\"Extra columns in Hopsworks researchers data:\", researchers_hopsworks_columns - researchers_original_columns)"
      ],
      "metadata": {
        "colab": {
          "base_uri": "https://localhost:8080/"
        },
        "id": "hVLOt-5cnUJz",
        "outputId": "bc3f7056-96ef-4a29-ec25-1a275cfec006"
      },
      "execution_count": 41,
      "outputs": [
        {
          "output_type": "stream",
          "name": "stdout",
          "text": [
            "Missing columns in Hopsworks grants data: set()\n",
            "Extra columns in Hopsworks grants data: set()\n",
            "Missing columns in Hopsworks researchers data: set()\n",
            "Extra columns in Hopsworks researchers data: set()\n"
          ]
        }
      ]
    },
    {
      "cell_type": "code",
      "source": [
        "# Compare data types for grants data\n",
        "grants_dtype_diff = grants_data.dtypes != grants_data_from_hopsworks.dtypes\n",
        "print(\"Data type differences in grants data:\")\n",
        "print(grants_dtype_diff)\n",
        "\n",
        "# Compare data types for researchers data\n",
        "researchers_dtype_diff = researchers_data.dtypes != researchers_data_from_hopsworks.dtypes\n",
        "print(\"Data type differences in researchers data:\")\n",
        "print(researchers_dtype_diff)"
      ],
      "metadata": {
        "colab": {
          "base_uri": "https://localhost:8080/"
        },
        "id": "Kli8jrIrnWbk",
        "outputId": "c5341e3b-476d-4355-e887-c3fc8f9c6f3f"
      },
      "execution_count": 42,
      "outputs": [
        {
          "output_type": "stream",
          "name": "stdout",
          "text": [
            "Data type differences in grants data:\n",
            "opportunity_id                    False\n",
            "opportunity_number                False\n",
            "opportunity_title                 False\n",
            "opportunity_status                False\n",
            "agency                            False\n",
            "agency_code                       False\n",
            "agency_name                       False\n",
            "category                          False\n",
            "award_ceiling                     False\n",
            "award_floor                       False\n",
            "estimated_total_funding           False\n",
            "expected_awards                   False\n",
            "post_date                          True\n",
            "close_date                        False\n",
            "funding_categories                False\n",
            "applicant_types                   False\n",
            "funding_instruments               False\n",
            "summary_description               False\n",
            "eligibility_description           False\n",
            "funding_range                     False\n",
            "summary_description_length        False\n",
            "eligibility_description_length    False\n",
            "funding_types_count               False\n",
            "applicant_types_count             False\n",
            "has_funding_limit                 False\n",
            "agency_group                      False\n",
            "dtype: bool\n",
            "Data type differences in researchers data:\n",
            "researcher_id          False\n",
            "researcher_name        False\n",
            "total_citations        False\n",
            "total_works            False\n",
            "h_index                False\n",
            "i10_index              False\n",
            "concept_1              False\n",
            "concept_1_score        False\n",
            "concept_2              False\n",
            "concept_2_score        False\n",
            "years_active           False\n",
            "recent_works_count     False\n",
            "recent_citations       False\n",
            "unique_venues          False\n",
            "avg_coauthors          False\n",
            "open_access_ratio      False\n",
            "top_work_1_id          False\n",
            "top_work_1_type        False\n",
            "top_work_1_is_oa       False\n",
            "top_work_1_keywords    False\n",
            "top_work_1_source      False\n",
            "top_work_2_id          False\n",
            "top_work_2_type        False\n",
            "top_work_2_is_oa       False\n",
            "top_work_2_keywords    False\n",
            "top_work_2_source      False\n",
            "top_work_3_id          False\n",
            "top_work_3_type        False\n",
            "top_work_3_is_oa       False\n",
            "top_work_3_keywords    False\n",
            "top_work_3_source      False\n",
            "top_work_4_id          False\n",
            "top_work_4_type        False\n",
            "top_work_4_is_oa       False\n",
            "top_work_4_keywords    False\n",
            "top_work_4_source      False\n",
            "top_work_5_id          False\n",
            "top_work_5_type        False\n",
            "top_work_5_is_oa       False\n",
            "top_work_5_keywords    False\n",
            "top_work_5_source      False\n",
            "top_collaborator_1     False\n",
            "top_collaborator_2     False\n",
            "top_collaborator_3     False\n",
            "top_collaborator_4     False\n",
            "top_collaborator_5     False\n",
            "impact_ratio           False\n",
            "recent_impact_ratio    False\n",
            "collaboration_score    False\n",
            "productivity_rate      False\n",
            "dtype: bool\n"
          ]
        }
      ]
    },
    {
      "cell_type": "code",
      "source": [
        "# Check for duplicates in primary key columns\n",
        "grants_primary_key_duplicates = grants_data_from_hopsworks.duplicated(subset=['opportunity_id']).sum()\n",
        "researchers_primary_key_duplicates = researchers_data_from_hopsworks.duplicated(subset=['researcher_id']).sum()\n",
        "\n",
        "print(f\"Grants primary key duplicates: {grants_primary_key_duplicates}\")\n",
        "print(f\"Researchers primary key duplicates: {researchers_primary_key_duplicates}\")"
      ],
      "metadata": {
        "colab": {
          "base_uri": "https://localhost:8080/"
        },
        "id": "1ulk9hilnYO4",
        "outputId": "bf346600-d8c4-4c80-8829-74bc71dff602"
      },
      "execution_count": 43,
      "outputs": [
        {
          "output_type": "stream",
          "name": "stdout",
          "text": [
            "Grants primary key duplicates: 0\n",
            "Researchers primary key duplicates: 0\n"
          ]
        }
      ]
    },
    {
      "cell_type": "markdown",
      "source": [
        "# some more feature engineering."
      ],
      "metadata": {
        "id": "Eh7tTvw5nnFh"
      }
    },
    {
      "cell_type": "code",
      "source": [
        "# Retrieve the feature groups\n",
        "grants_fg = fs.get_feature_group(name='grants', version=1)\n",
        "researchers_fg = fs.get_feature_group(name='researchers', version=1)\n",
        "\n",
        "# Read the data into Pandas DataFrames\n",
        "grants_data_from_hopsworks = grants_fg.read()\n",
        "researchers_data_from_hopsworks = researchers_fg.read()\n",
        "\n",
        "# Print the columns of the data\n",
        "print(\"Grants data columns:\", grants_data_from_hopsworks.columns.tolist())\n",
        "print(\"Researchers data columns:\", researchers_data_from_hopsworks.columns.tolist())"
      ],
      "metadata": {
        "colab": {
          "base_uri": "https://localhost:8080/"
        },
        "id": "alhXNeiMnmvq",
        "outputId": "57a7e78a-92d4-48d8-c150-436571a0bc49"
      },
      "execution_count": 45,
      "outputs": [
        {
          "output_type": "stream",
          "name": "stdout",
          "text": [
            "Finished: Reading data from Hopsworks, using Hopsworks Feature Query Service (1.71s) \n",
            "Finished: Reading data from Hopsworks, using Hopsworks Feature Query Service (0.56s) \n",
            "Grants data columns: ['opportunity_id', 'opportunity_number', 'opportunity_title', 'opportunity_status', 'agency', 'agency_code', 'agency_name', 'category', 'award_ceiling', 'award_floor', 'estimated_total_funding', 'expected_awards', 'post_date', 'close_date', 'funding_categories', 'applicant_types', 'funding_instruments', 'summary_description', 'eligibility_description', 'funding_range', 'summary_description_length', 'eligibility_description_length', 'funding_types_count', 'applicant_types_count', 'has_funding_limit', 'agency_group']\n",
            "Researchers data columns: ['researcher_id', 'researcher_name', 'total_citations', 'total_works', 'h_index', 'i10_index', 'concept_1', 'concept_1_score', 'concept_2', 'concept_2_score', 'years_active', 'recent_works_count', 'recent_citations', 'unique_venues', 'avg_coauthors', 'open_access_ratio', 'top_work_1_id', 'top_work_1_type', 'top_work_1_is_oa', 'top_work_1_keywords', 'top_work_1_source', 'top_work_2_id', 'top_work_2_type', 'top_work_2_is_oa', 'top_work_2_keywords', 'top_work_2_source', 'top_work_3_id', 'top_work_3_type', 'top_work_3_is_oa', 'top_work_3_keywords', 'top_work_3_source', 'top_work_4_id', 'top_work_4_type', 'top_work_4_is_oa', 'top_work_4_keywords', 'top_work_4_source', 'top_work_5_id', 'top_work_5_type', 'top_work_5_is_oa', 'top_work_5_keywords', 'top_work_5_source', 'top_collaborator_1', 'top_collaborator_2', 'top_collaborator_3', 'top_collaborator_4', 'top_collaborator_5', 'impact_ratio', 'recent_impact_ratio', 'collaboration_score', 'productivity_rate']\n"
          ]
        }
      ]
    },
    {
      "cell_type": "code",
      "source": [
        "researchers_data_from_hopsworks['research_impact_score'] = (\n",
        "    researchers_data_from_hopsworks['h_index'] * 0.4 +\n",
        "    researchers_data_from_hopsworks['total_citations'] * 0.3 +\n",
        "    researchers_data_from_hopsworks['i10_index'] * 0.3\n",
        ")"
      ],
      "metadata": {
        "id": "XRvPOS61obBt"
      },
      "execution_count": 46,
      "outputs": []
    },
    {
      "cell_type": "code",
      "source": [
        "researchers_data_from_hopsworks['concept_diversity'] = (\n",
        "    researchers_data_from_hopsworks['concept_1_score'] +\n",
        "    researchers_data_from_hopsworks['concept_2_score']\n",
        ")"
      ],
      "metadata": {
        "id": "gautId5yomp0"
      },
      "execution_count": 47,
      "outputs": []
    },
    {
      "cell_type": "code",
      "source": [
        "researchers_data_from_hopsworks['collaboration_network_strength'] = (\n",
        "    researchers_data_from_hopsworks['collaboration_score'] * 0.7 +\n",
        "    researchers_data_from_hopsworks['avg_coauthors'] * 0.3\n",
        ")"
      ],
      "metadata": {
        "id": "ljf60eOrooUe"
      },
      "execution_count": 48,
      "outputs": []
    },
    {
      "cell_type": "code",
      "source": [
        "researchers_data_from_hopsworks['open_access_contribution'] = (\n",
        "    researchers_data_from_hopsworks['open_access_ratio'] * 100  # Convert to percentage\n",
        ")"
      ],
      "metadata": {
        "id": "KTEj8mQdop-r"
      },
      "execution_count": 49,
      "outputs": []
    },
    {
      "cell_type": "code",
      "source": [
        "def aggregate_keywords(row):\n",
        "    keywords = []\n",
        "    for i in range(1, 6):\n",
        "        keywords.extend(row[f'top_work_{i}_keywords'].split(', '))\n",
        "    return ', '.join(set(keywords))  # Remove duplicates\n",
        "\n",
        "researchers_data_from_hopsworks['aggregated_keywords'] = researchers_data_from_hopsworks.apply(aggregate_keywords, axis=1)"
      ],
      "metadata": {
        "id": "zsr9FMAmorc4"
      },
      "execution_count": 50,
      "outputs": []
    },
    {
      "cell_type": "code",
      "source": [
        "grants_data_from_hopsworks['funding_range_score'] = (\n",
        "    grants_data_from_hopsworks['award_ceiling'] - grants_data_from_hopsworks['award_floor']\n",
        ")"
      ],
      "metadata": {
        "id": "WATh-nd5osFF"
      },
      "execution_count": 51,
      "outputs": []
    },
    {
      "cell_type": "code",
      "source": [
        "grants_data_from_hopsworks['funding_type_diversity'] = (\n",
        "    grants_data_from_hopsworks['funding_types_count'] +\n",
        "    grants_data_from_hopsworks['applicant_types_count']\n",
        ")"
      ],
      "metadata": {
        "id": "WJ55wR9HouyY"
      },
      "execution_count": 52,
      "outputs": []
    },
    {
      "cell_type": "code",
      "source": [
        "grants_data_from_hopsworks['description_complexity'] = (\n",
        "    grants_data_from_hopsworks['summary_description_length'] * 0.6 +\n",
        "    grants_data_from_hopsworks['eligibility_description_length'] * 0.4\n",
        ")"
      ],
      "metadata": {
        "id": "Q0vAifv1owgI"
      },
      "execution_count": 53,
      "outputs": []
    },
    {
      "cell_type": "code",
      "source": [
        "agency_reputation = {\n",
        "    'Agency Group A': 5,\n",
        "    'Agency Group B': 4,\n",
        "    'Agency Group C': 3\n",
        "}\n",
        "grants_data_from_hopsworks['agency_reputation_score'] = grants_data_from_hopsworks['agency_group'].map(agency_reputation)"
      ],
      "metadata": {
        "id": "nAMvzpwPox9E"
      },
      "execution_count": 54,
      "outputs": []
    },
    {
      "cell_type": "code",
      "source": [
        "# Convert date columns to datetime and remove timezone information\n",
        "grants_data_from_hopsworks['post_date'] = pd.to_datetime(grants_data_from_hopsworks['post_date']).dt.tz_localize(None)\n",
        "grants_data_from_hopsworks['close_date'] = pd.to_datetime(grants_data_from_hopsworks['close_date']).dt.tz_localize(None)\n",
        "\n",
        "# Calculate funding urgency (difference in days)\n",
        "grants_data_from_hopsworks['funding_urgency'] = (\n",
        "    (grants_data_from_hopsworks['close_date'] - grants_data_from_hopsworks['post_date']).dt.days\n",
        ")"
      ],
      "metadata": {
        "id": "TFbDF4s0oziF"
      },
      "execution_count": 67,
      "outputs": []
    },
    {
      "cell_type": "code",
      "source": [
        "from sklearn.feature_extraction.text import TfidfVectorizer\n",
        "\n",
        "tfidf = TfidfVectorizer(max_features=10, stop_words='english')\n",
        "summary_keywords = tfidf.fit_transform(grants_data_from_hopsworks['summary_description'].astype(str))\n",
        "grants_data_from_hopsworks['summary_keywords'] = list(summary_keywords.toarray())"
      ],
      "metadata": {
        "id": "DtdmgR5bo3RG"
      },
      "execution_count": 56,
      "outputs": []
    },
    {
      "cell_type": "markdown",
      "source": [
        "# visualizing features for better understanding\n"
      ],
      "metadata": {
        "id": "6rAxS93ypICG"
      }
    },
    {
      "cell_type": "code",
      "source": [
        "plt.figure(figsize=(10, 6))\n",
        "sns.histplot(grants_data_from_hopsworks['funding_urgency'], bins=30, kde=True)\n",
        "plt.title('Distribution of Funding Urgency (Days)')\n",
        "plt.xlabel('Funding Urgency (Days)')\n",
        "plt.ylabel('Frequency')\n",
        "plt.show()"
      ],
      "metadata": {
        "colab": {
          "base_uri": "https://localhost:8080/",
          "height": 564
        },
        "id": "dkPg8SZnpoPj",
        "outputId": "9f370fc7-ead2-4f44-c877-cae639554912"
      },
      "execution_count": 68,
      "outputs": [
        {
          "output_type": "display_data",
          "data": {
            "text/plain": [
              "<Figure size 1000x600 with 1 Axes>"
            ],
            "image/png": "[encoded data removed]"
          },
          "metadata": {}
        }
      ]
    },
    {
      "cell_type": "code",
      "source": [
        "plt.figure(figsize=(10, 6))\n",
        "sns.scatterplot(\n",
        "    x='award_floor',\n",
        "    y='award_ceiling',\n",
        "    data=grants_data_from_hopsworks,\n",
        "    hue='has_funding_limit'\n",
        ")\n",
        "plt.title('Funding Range: Award Ceiling vs. Award Floor')\n",
        "plt.xlabel('Award Floor')\n",
        "plt.ylabel('Award Ceiling')\n",
        "plt.legend(title='Has Funding Limit')\n",
        "plt.show()"
      ],
      "metadata": {
        "colab": {
          "base_uri": "https://localhost:8080/",
          "height": 564
        },
        "id": "X5cq_3Wro3zX",
        "outputId": "7892801f-a98c-44fe-a6d9-de997f02bd62"
      },
      "execution_count": 59,
      "outputs": [
        {
          "output_type": "display_data",
          "data": {
            "text/plain": [
              "<Figure size 1000x600 with 1 Axes>"
            ],
            "image/png": "[encoded data removed]"
          },
          "metadata": {}
        }
      ]
    },
    {
      "cell_type": "code",
      "source": [
        "plt.figure(figsize=(10, 6))\n",
        "sns.countplot(\n",
        "    y='agency_group',\n",
        "    data=grants_data_from_hopsworks,\n",
        "    order=grants_data_from_hopsworks['agency_group'].value_counts().index\n",
        ")\n",
        "plt.title('Distribution of Agency Groups')\n",
        "plt.xlabel('Count')\n",
        "plt.ylabel('Agency Group')\n",
        "plt.show()"
      ],
      "metadata": {
        "colab": {
          "base_uri": "https://localhost:8080/",
          "height": 564
        },
        "id": "FdmxfcjypSl6",
        "outputId": "5908c7c1-69e3-4f5c-e2af-6d3e4491f84c"
      },
      "execution_count": 60,
      "outputs": [
        {
          "output_type": "display_data",
          "data": {
            "text/plain": [
              "<Figure size 1000x600 with 1 Axes>"
            ],
            "image/png": "[encoded data removed]"
          },
          "metadata": {}
        }
      ]
    },
    {
      "cell_type": "code",
      "source": [
        "plt.figure(figsize=(10, 6))\n",
        "sns.histplot(grants_data_from_hopsworks['description_complexity'], bins=30, kde=True)\n",
        "plt.title('Distribution of Description Complexity')\n",
        "plt.xlabel('Description Complexity')\n",
        "plt.ylabel('Frequency')\n",
        "plt.show()"
      ],
      "metadata": {
        "colab": {
          "base_uri": "https://localhost:8080/",
          "height": 564
        },
        "id": "nmkzMffupTjn",
        "outputId": "87aed6b3-08a3-4cc0-a3e5-ca30c05fb02a"
      },
      "execution_count": 62,
      "outputs": [
        {
          "output_type": "display_data",
          "data": {
            "text/plain": [
              "<Figure size 1000x600 with 1 Axes>"
            ],
            "image/png": "[encoded data removed]"
          },
          "metadata": {}
        }
      ]
    },
    {
      "cell_type": "code",
      "source": [
        "plt.figure(figsize=(10, 6))\n",
        "sns.histplot(researchers_data_from_hopsworks['research_impact_score'], bins=30, kde=True)\n",
        "plt.title('Distribution of Research Impact Score')\n",
        "plt.xlabel('Research Impact Score')\n",
        "plt.ylabel('Frequency')\n",
        "plt.show()"
      ],
      "metadata": {
        "colab": {
          "base_uri": "https://localhost:8080/",
          "height": 564
        },
        "id": "sLA4mt-QpVJn",
        "outputId": "7e193b17-f834-427e-ba10-69fa0b622ab8"
      },
      "execution_count": 63,
      "outputs": [
        {
          "output_type": "display_data",
          "data": {
            "text/plain": [
              "<Figure size 1000x600 with 1 Axes>"
            ],
            "image/png": "[encoded data removed]"
          },
          "metadata": {}
        }
      ]
    },
    {
      "cell_type": "code",
      "source": [
        "plt.figure(figsize=(10, 6))\n",
        "sns.histplot(researchers_data_from_hopsworks['collaboration_network_strength'], bins=30, kde=True)\n",
        "plt.title('Distribution of Collaboration Network Strength')\n",
        "plt.xlabel('Collaboration Network Strength')\n",
        "plt.ylabel('Frequency')\n",
        "plt.show()"
      ],
      "metadata": {
        "colab": {
          "base_uri": "https://localhost:8080/",
          "height": 564
        },
        "id": "rxiz_GCLpcuH",
        "outputId": "1fd14b36-5b88-4131-db1a-067ed0a02114"
      },
      "execution_count": 64,
      "outputs": [
        {
          "output_type": "display_data",
          "data": {
            "text/plain": [
              "<Figure size 1000x600 with 1 Axes>"
            ],
            "image/png": "[encoded data removed]"
          },
          "metadata": {}
        }
      ]
    },
    {
      "cell_type": "code",
      "source": [
        "plt.figure(figsize=(10, 6))\n",
        "sns.histplot(researchers_data_from_hopsworks['open_access_contribution'], bins=30, kde=True)\n",
        "plt.title('Distribution of Open Access Contribution')\n",
        "plt.xlabel('Open Access Contribution (%)')\n",
        "plt.ylabel('Frequency')\n",
        "plt.show()"
      ],
      "metadata": {
        "colab": {
          "base_uri": "https://localhost:8080/",
          "height": 564
        },
        "id": "l-mYKgeDpdlO",
        "outputId": "4f4c96f7-2baf-4d27-a3fd-42e6ea9c9e1a"
      },
      "execution_count": 65,
      "outputs": [
        {
          "output_type": "display_data",
          "data": {
            "text/plain": [
              "<Figure size 1000x600 with 1 Axes>"
            ],
            "image/png": "[encoded data removed]"
          },
          "metadata": {}
        }
      ]
    },
    {
      "cell_type": "code",
      "source": [
        "from collections import Counter\n",
        "import itertools\n",
        "\n",
        "# Aggregate all keywords\n",
        "all_keywords = list(itertools.chain(*researchers_data_from_hopsworks['aggregated_keywords'].str.split(', ')))\n",
        "keyword_counts = Counter(all_keywords)\n",
        "\n",
        "# Plot the top 10 keywords\n",
        "top_keywords = keyword_counts.most_common(10)\n",
        "plt.figure(figsize=(10, 6))\n",
        "sns.barplot(x=[count for _, count in top_keywords], y=[keyword for keyword, _ in top_keywords])\n",
        "plt.title('Top 10 Research Keywords')\n",
        "plt.xlabel('Frequency')\n",
        "plt.ylabel('Keyword')\n",
        "plt.show()"
      ],
      "metadata": {
        "colab": {
          "base_uri": "https://localhost:8080/",
          "height": 564
        },
        "id": "I8wZ1Rw_pf0j",
        "outputId": "b47b7f85-7d7b-441f-d89a-8fd45227594e"
      },
      "execution_count": 66,
      "outputs": [
        {
          "output_type": "display_data",
          "data": {
            "text/plain": [
              "<Figure size 1000x600 with 1 Axes>"
            ],
            "image/png": "[encoded data removed]"
          },
          "metadata": {}
        }
      ]
    },
    {
      "cell_type": "markdown",
      "source": [
        "###   i was concerned about the agency group column and there being \"unknown in research columns \""
      ],
      "metadata": {
        "id": "8Z51KE1xp3UA"
      }
    },
    {
      "cell_type": "code",
      "source": [
        "unknown_count = grants_data_from_hopsworks['agency_group'].value_counts().get('unknown', 0)\n",
        "print(f\"Number of 'unknown' agency groups: {unknown_count}\")"
      ],
      "metadata": {
        "colab": {
          "base_uri": "https://localhost:8080/"
        },
        "id": "q7s5sGaOqCDM",
        "outputId": "d8e09a0c-d914-4a2c-ba0e-6132d6e790f9"
      },
      "execution_count": 69,
      "outputs": [
        {
          "output_type": "stream",
          "name": "stdout",
          "text": [
            "Number of 'unknown' agency groups: 3470\n"
          ]
        }
      ]
    },
    {
      "cell_type": "code",
      "source": [
        "grants_data_from_hopsworks = grants_data_from_hopsworks.drop(columns=['agency_group'])"
      ],
      "metadata": {
        "id": "gwOYV_1QqHtG"
      },
      "execution_count": 71,
      "outputs": []
    },
    {
      "cell_type": "code",
      "source": [
        "print(\"Columns after removing 'agency_group':\", grants_data_from_hopsworks.columns.tolist())"
      ],
      "metadata": {
        "colab": {
          "base_uri": "https://localhost:8080/"
        },
        "id": "52jy2p78qXHZ",
        "outputId": "ab9d3d81-4a03-4add-a0f3-44ddbf69a05f"
      },
      "execution_count": 72,
      "outputs": [
        {
          "output_type": "stream",
          "name": "stdout",
          "text": [
            "Columns after removing 'agency_group': ['opportunity_id', 'opportunity_number', 'opportunity_title', 'opportunity_status', 'agency', 'agency_code', 'agency_name', 'category', 'award_ceiling', 'award_floor', 'estimated_total_funding', 'expected_awards', 'post_date', 'close_date', 'funding_categories', 'applicant_types', 'funding_instruments', 'summary_description', 'eligibility_description', 'funding_range', 'summary_description_length', 'eligibility_description_length', 'funding_types_count', 'applicant_types_count', 'has_funding_limit', 'funding_range_score', 'funding_type_diversity', 'description_complexity', 'agency_reputation_score', 'summary_keywords', 'funding_urgency']\n"
          ]
        }
      ]
    }
  ]
}